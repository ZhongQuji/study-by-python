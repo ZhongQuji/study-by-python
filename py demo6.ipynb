{
 "cells": [
  {
   "cell_type": "markdown",
   "id": "20f80e9b",
   "metadata": {},
   "source": [
    "# 归并排序不考"
   ]
  },
  {
   "cell_type": "markdown",
   "id": "de071ec2",
   "metadata": {},
   "source": [
    "# def # 定义函数"
   ]
  },
  {
   "cell_type": "code",
   "execution_count": 1,
   "id": "5d17e43d",
   "metadata": {},
   "outputs": [],
   "source": [
    "def add():\n",
    "    result = 11 + 22\n",
    "    print(result)"
   ]
  },
  {
   "cell_type": "code",
   "execution_count": 2,
   "id": "b40c7ecf",
   "metadata": {},
   "outputs": [],
   "source": [
    "def add_modify(a, b):\n",
    "    result = a + b\n",
    "    print(result)"
   ]
  },
  {
   "cell_type": "markdown",
   "id": "6a6caa62",
   "metadata": {},
   "source": [
    "# 调用函数"
   ]
  },
  {
   "cell_type": "code",
   "execution_count": 3,
   "id": "7fa20749",
   "metadata": {},
   "outputs": [
    {
     "name": "stdout",
     "output_type": "stream",
     "text": [
      "33\n",
      "30\n"
     ]
    }
   ],
   "source": [
    "add()\n",
    "add_modify(10, 20)"
   ]
  },
  {
   "cell_type": "code",
   "execution_count": 4,
   "id": "01d617cb",
   "metadata": {},
   "outputs": [],
   "source": [
    "def add_modify(a, b):\n",
    "    result = a + b\n",
    "    add()\n",
    "    print(result)"
   ]
  },
  {
   "cell_type": "code",
   "execution_count": 5,
   "id": "f7bdfeeb",
   "metadata": {},
   "outputs": [
    {
     "name": "stdout",
     "output_type": "stream",
     "text": [
      "33\n",
      "30\n"
     ]
    }
   ],
   "source": [
    "add_modify(10, 20)"
   ]
  },
  {
   "cell_type": "code",
   "execution_count": 6,
   "id": "4611caf3",
   "metadata": {},
   "outputs": [
    {
     "name": "stdout",
     "output_type": "stream",
     "text": [
      "30\n"
     ]
    }
   ],
   "source": [
    "def add_modify(a, b):\n",
    "    result = a + b\n",
    "    print(result)\n",
    "    def test():                                   \t\t# 在函数中定义函数test()\n",
    "        print(\"我是内层函数\")                  \n",
    "add_modify(10, 20)"
   ]
  },
  {
   "cell_type": "code",
   "execution_count": 7,
   "id": "8aee3b20",
   "metadata": {},
   "outputs": [
    {
     "name": "stdout",
     "output_type": "stream",
     "text": [
      "30\n",
      "我是内层函数\n"
     ]
    }
   ],
   "source": [
    "def add_modify(a, b):\n",
    "    result = a + b\n",
    "    print(result)\n",
    "    def test():                                  \t\t\t# 在函数中定义函数test()\n",
    "        print(\"我是内层函数\")    \n",
    "    test()                                        \t\t\t# 在函数中调用函数test()\n",
    "add_modify(10, 20)"
   ]
  },
  {
   "cell_type": "markdown",
   "id": "f9939e98",
   "metadata": {},
   "source": [
    "#  函数参数的传递\n"
   ]
  },
  {
   "cell_type": "markdown",
   "id": "a95fe03e",
   "metadata": {},
   "source": [
    "## 位置参数的传递·"
   ]
  },
  {
   "cell_type": "code",
   "execution_count": 8,
   "id": "0471f35b",
   "metadata": {},
   "outputs": [
    {
     "name": "stdout",
     "output_type": "stream",
     "text": [
      "8 是较大的值！\n"
     ]
    }
   ],
   "source": [
    "def get_max(a, b):\n",
    "    if a > b:\n",
    "        print(a,\"是较大的值！\")\n",
    "    else:\n",
    "        print(b,\"是较大的值！\")\n",
    "get_max(8, 5)"
   ]
  },
  {
   "cell_type": "markdown",
   "id": "9a41b0a9",
   "metadata": {},
   "source": [
    "## 关键字参数的传递"
   ]
  },
  {
   "cell_type": "code",
   "execution_count": 9,
   "id": "d2cb9d37",
   "metadata": {},
   "outputs": [
    {
     "name": "stdout",
     "output_type": "stream",
     "text": [
      "设备127.0.0.1:8080连接！\n"
     ]
    }
   ],
   "source": [
    "def connect(ip, port):\n",
    "    print(f\"设备{ip}:{port}连接！\")\n",
    "connect(ip=\"127.0.0.1\", port=8080)"
   ]
  },
  {
   "cell_type": "code",
   "execution_count": 10,
   "id": "9dd24731",
   "metadata": {},
   "outputs": [],
   "source": [
    "def func(a, b, /, c):  # / 指明前面的参数a、b均为仅限位置形参\n",
    "    print(a, b, c)"
   ]
  },
  {
   "cell_type": "code",
   "execution_count": 11,
   "id": "7e0ed253",
   "metadata": {},
   "outputs": [
    {
     "name": "stdout",
     "output_type": "stream",
     "text": [
      "10 20 30\n"
     ]
    }
   ],
   "source": [
    "# 错误的调用方式\n",
    "# func(a=10, 20, 30)   \n",
    "# func(10, b=20, 30)\n",
    "# 正确的调用方式\n",
    "func(10, 20, c=30)"
   ]
  },
  {
   "cell_type": "markdown",
   "id": "1ca273a7",
   "metadata": {},
   "source": [
    "## 默认参数的传递"
   ]
  },
  {
   "cell_type": "code",
   "execution_count": 12,
   "id": "a9113c42",
   "metadata": {},
   "outputs": [],
   "source": [
    "def connect(ip, port=8080):\n",
    "    print(f\"设备{ip}:{port}连接！\")"
   ]
  },
  {
   "cell_type": "code",
   "execution_count": 13,
   "id": "e499cde0",
   "metadata": {},
   "outputs": [
    {
     "name": "stdout",
     "output_type": "stream",
     "text": [
      "设备127.0.0.1:8080连接！\n",
      "设备127.0.0.1:3306连接！\n"
     ]
    }
   ],
   "source": [
    "connect(ip=\"127.0.0.1\")\n",
    "connect(ip=\"127.0.0.1\", port=3306)"
   ]
  },
  {
   "cell_type": "markdown",
   "id": "613e3168",
   "metadata": {},
   "source": [
    "## 参数的打包与解包"
   ]
  },
  {
   "cell_type": "code",
   "execution_count": 14,
   "id": "af43648e",
   "metadata": {},
   "outputs": [],
   "source": [
    "def test(*args):\n",
    "    print(args)"
   ]
  },
  {
   "cell_type": "code",
   "execution_count": 15,
   "id": "29c8d53f",
   "metadata": {},
   "outputs": [
    {
     "name": "stdout",
     "output_type": "stream",
     "text": [
      "(11, 22, 33, 44, 55)\n"
     ]
    }
   ],
   "source": [
    "test(11, 22, 33, 44, 55)"
   ]
  },
  {
   "cell_type": "code",
   "execution_count": 16,
   "id": "e05c7f0f",
   "metadata": {},
   "outputs": [],
   "source": [
    "def test(**kwargs):\n",
    "    print(kwargs)"
   ]
  },
  {
   "cell_type": "code",
   "execution_count": 17,
   "id": "12444dc2",
   "metadata": {},
   "outputs": [
    {
     "name": "stdout",
     "output_type": "stream",
     "text": [
      "{'a': 11, 'b': 22, 'c': 33, 'd': 44, 'e': 55}\n"
     ]
    }
   ],
   "source": [
    "test(a=11, b=22, c=33, d=44, e=55)"
   ]
  },
  {
   "cell_type": "code",
   "execution_count": 18,
   "id": "30a7a5c3",
   "metadata": {},
   "outputs": [],
   "source": [
    "def test(a, b, c, d, e):\n",
    "    print(a, b, c, d, e)"
   ]
  },
  {
   "cell_type": "code",
   "execution_count": 19,
   "id": "70507b8a",
   "metadata": {},
   "outputs": [
    {
     "name": "stdout",
     "output_type": "stream",
     "text": [
      "11 22 33 44 55\n"
     ]
    }
   ],
   "source": [
    "nums = (11, 22, 33, 44, 55)\n",
    "test(*nums)"
   ]
  },
  {
   "cell_type": "code",
   "execution_count": 20,
   "id": "dc6a22e3",
   "metadata": {},
   "outputs": [
    {
     "name": "stdout",
     "output_type": "stream",
     "text": [
      "11 22 33 44 55\n"
     ]
    }
   ],
   "source": [
    "nums = {\"a\":11, \"b\":22, \"c\":33, \"d\":44, \"e\":55}\n",
    "test(**nums)"
   ]
  },
  {
   "cell_type": "markdown",
   "id": "6ee96724",
   "metadata": {},
   "source": [
    "## 混合传递"
   ]
  },
  {
   "cell_type": "code",
   "execution_count": 21,
   "id": "49320eab",
   "metadata": {},
   "outputs": [],
   "source": [
    "def test(a, b, c=33, *args, **kwargs):\n",
    "    print(a, b, c, args, kwargs)"
   ]
  },
  {
   "cell_type": "code",
   "execution_count": 22,
   "id": "25d91567",
   "metadata": {},
   "outputs": [
    {
     "name": "stdout",
     "output_type": "stream",
     "text": [
      "1 2 33 () {}\n",
      "1 2 3 () {}\n",
      "1 2 3 (4,) {}\n",
      "1 2 3 (4,) {'e': 5}\n"
     ]
    }
   ],
   "source": [
    "test(1, 2)\n",
    "test(1, 2, 3)\n",
    "test(1, 2, 3, 4)\n",
    "test(1, 2, 3, 4, e=5)"
   ]
  },
  {
   "cell_type": "code",
   "execution_count": 23,
   "id": "9849c25d",
   "metadata": {},
   "outputs": [],
   "source": [
    "def filter_sensitive_words(words):\n",
    "    if \"山寨\" in words:\n",
    "        new_words = words.replace(\"山寨\", \"**\")\n",
    "        return new_words"
   ]
  },
  {
   "cell_type": "code",
   "execution_count": 25,
   "id": "8afe7a2e",
   "metadata": {},
   "outputs": [
    {
     "name": "stdout",
     "output_type": "stream",
     "text": [
      "这个手机是**版吧！\n"
     ]
    }
   ],
   "source": [
    "result = filter_sensitive_words(\"这个手机是山寨版吧！\")\n",
    "print(result)"
   ]
  },
  {
   "cell_type": "code",
   "execution_count": 24,
   "id": "dab5995c",
   "metadata": {},
   "outputs": [
    {
     "name": "stdout",
     "output_type": "stream",
     "text": [
      "(160, 40)\n"
     ]
    }
   ],
   "source": [
    "def move(x, y, step):\n",
    "    nx = x + step\n",
    "    ny = y - step\n",
    "    return nx, ny  # 使用return语句返回多个值\n",
    "result = move(100, 100, 60)\n",
    "print(result)"
   ]
  },
  {
   "cell_type": "markdown",
   "id": "9087c261",
   "metadata": {},
   "source": [
    "# 变量作用域"
   ]
  },
  {
   "cell_type": "markdown",
   "id": "c56e6c0a",
   "metadata": {},
   "source": [
    "## 局部变量和全局变量`"
   ]
  },
  {
   "cell_type": "code",
   "execution_count": 26,
   "id": "c67ed08c",
   "metadata": {},
   "outputs": [
    {
     "name": "stdout",
     "output_type": "stream",
     "text": [
      "10\n"
     ]
    },
    {
     "ename": "NameError",
     "evalue": "name 'number' is not defined",
     "output_type": "error",
     "traceback": [
      "\u001b[1;31m---------------------------------------------------------------------------\u001b[0m",
      "\u001b[1;31mNameError\u001b[0m                                 Traceback (most recent call last)",
      "\u001b[1;32m~\\AppData\\Local\\Temp/ipykernel_21040/569783001.py\u001b[0m in \u001b[0;36m<module>\u001b[1;34m\u001b[0m\n\u001b[0;32m      3\u001b[0m     \u001b[0mprint\u001b[0m\u001b[1;33m(\u001b[0m\u001b[0mnumber\u001b[0m\u001b[1;33m)\u001b[0m     \u001b[1;31m# 函数内部访问局部变量\u001b[0m\u001b[1;33m\u001b[0m\u001b[1;33m\u001b[0m\u001b[0m\n\u001b[0;32m      4\u001b[0m \u001b[0mtest_one\u001b[0m\u001b[1;33m(\u001b[0m\u001b[1;33m)\u001b[0m\u001b[1;33m\u001b[0m\u001b[1;33m\u001b[0m\u001b[0m\n\u001b[1;32m----> 5\u001b[1;33m \u001b[0mprint\u001b[0m\u001b[1;33m(\u001b[0m\u001b[0mnumber\u001b[0m\u001b[1;33m)\u001b[0m\u001b[1;33m\u001b[0m\u001b[1;33m\u001b[0m\u001b[0m\n\u001b[0m",
      "\u001b[1;31mNameError\u001b[0m: name 'number' is not defined"
     ]
    }
   ],
   "source": [
    "def test_one():\n",
    "    number = 10       # 局部变量\n",
    "    print(number)     # 函数内部访问局部变量\n",
    "test_one()\n",
    "print(number)"
   ]
  },
  {
   "cell_type": "code",
   "execution_count": null,
   "id": "941ef5b7",
   "metadata": {},
   "outputs": [],
   "source": [
    "def test_one():\n",
    "    number = 10\n",
    "    print(number)  # 访问test_one()函数的局部变量number\n",
    "def test_two():\n",
    "    number = 20\n",
    "    print(number)  # 访问test_two()函数的局部变量number\n",
    "test_one()\n",
    "test_two()"
   ]
  },
  {
   "cell_type": "code",
   "execution_count": 30,
   "id": "7a940438",
   "metadata": {},
   "outputs": [
    {
     "name": "stdout",
     "output_type": "stream",
     "text": [
      "10\n",
      "10\n"
     ]
    }
   ],
   "source": [
    "number = 10         # 全局变量\n",
    "def test_one():\n",
    "    print(number)   # 函数内部访问全局变量\n",
    "test_one()\n",
    "print(number)   "
   ]
  },
  {
   "cell_type": "code",
   "execution_count": 27,
   "id": "92d2e8e3",
   "metadata": {},
   "outputs": [
    {
     "ename": "UnboundLocalError",
     "evalue": "local variable 'number' referenced before assignment",
     "output_type": "error",
     "traceback": [
      "\u001b[1;31m---------------------------------------------------------------------------\u001b[0m",
      "\u001b[1;31mUnboundLocalError\u001b[0m                         Traceback (most recent call last)",
      "\u001b[1;32m~\\AppData\\Local\\Temp/ipykernel_21040/621636121.py\u001b[0m in \u001b[0;36m<module>\u001b[1;34m\u001b[0m\n\u001b[0;32m      4\u001b[0m     \u001b[0mprint\u001b[0m\u001b[1;33m(\u001b[0m\u001b[0mnumber\u001b[0m\u001b[1;33m)\u001b[0m  \u001b[1;31m# 在函数内部访问全局变量\u001b[0m\u001b[1;33m\u001b[0m\u001b[1;33m\u001b[0m\u001b[0m\n\u001b[0;32m      5\u001b[0m     \u001b[0mnumber\u001b[0m \u001b[1;33m+=\u001b[0m \u001b[1;36m1\u001b[0m    \u001b[1;31m# 在函数内部直接修改全局变量\u001b[0m\u001b[1;33m\u001b[0m\u001b[1;33m\u001b[0m\u001b[0m\n\u001b[1;32m----> 6\u001b[1;33m \u001b[0mtest_one\u001b[0m\u001b[1;33m(\u001b[0m\u001b[1;33m)\u001b[0m\u001b[1;33m\u001b[0m\u001b[1;33m\u001b[0m\u001b[0m\n\u001b[0m\u001b[0;32m      7\u001b[0m \u001b[0mprint\u001b[0m\u001b[1;33m(\u001b[0m\u001b[0mnumber\u001b[0m\u001b[1;33m)\u001b[0m\u001b[1;33m\u001b[0m\u001b[1;33m\u001b[0m\u001b[0m\n",
      "\u001b[1;32m~\\AppData\\Local\\Temp/ipykernel_21040/621636121.py\u001b[0m in \u001b[0;36mtest_one\u001b[1;34m()\u001b[0m\n\u001b[0;32m      2\u001b[0m \u001b[0mnumber\u001b[0m \u001b[1;33m=\u001b[0m \u001b[1;36m10\u001b[0m\u001b[1;33m\u001b[0m\u001b[1;33m\u001b[0m\u001b[0m\n\u001b[0;32m      3\u001b[0m \u001b[1;32mdef\u001b[0m \u001b[0mtest_one\u001b[0m\u001b[1;33m(\u001b[0m\u001b[1;33m)\u001b[0m\u001b[1;33m:\u001b[0m\u001b[1;33m\u001b[0m\u001b[1;33m\u001b[0m\u001b[0m\n\u001b[1;32m----> 4\u001b[1;33m     \u001b[0mprint\u001b[0m\u001b[1;33m(\u001b[0m\u001b[0mnumber\u001b[0m\u001b[1;33m)\u001b[0m  \u001b[1;31m# 在函数内部访问全局变量\u001b[0m\u001b[1;33m\u001b[0m\u001b[1;33m\u001b[0m\u001b[0m\n\u001b[0m\u001b[0;32m      5\u001b[0m     \u001b[0mnumber\u001b[0m \u001b[1;33m+=\u001b[0m \u001b[1;36m1\u001b[0m    \u001b[1;31m# 在函数内部直接修改全局变量\u001b[0m\u001b[1;33m\u001b[0m\u001b[1;33m\u001b[0m\u001b[0m\n\u001b[0;32m      6\u001b[0m \u001b[0mtest_one\u001b[0m\u001b[1;33m(\u001b[0m\u001b[1;33m)\u001b[0m\u001b[1;33m\u001b[0m\u001b[1;33m\u001b[0m\u001b[0m\n",
      "\u001b[1;31mUnboundLocalError\u001b[0m: local variable 'number' referenced before assignment"
     ]
    }
   ],
   "source": [
    "# 定义全局变量\n",
    "number = 10\n",
    "def test_one():\n",
    "    print(number)  # 在函数内部访问全局变量\n",
    "    number += 1    # 在函数内部直接修改全局变量\n",
    "test_one()\n",
    "print(number)"
   ]
  },
  {
   "cell_type": "markdown",
   "id": "d5433e8e",
   "metadata": {},
   "source": [
    "## global和nonlocal关键字`"
   ]
  },
  {
   "cell_type": "code",
   "execution_count": 28,
   "id": "ba31bc1b",
   "metadata": {},
   "outputs": [
    {
     "name": "stdout",
     "output_type": "stream",
     "text": [
      "11\n",
      "11\n"
     ]
    }
   ],
   "source": [
    "number = 10                     # 定义全局变量\n",
    "def test_one():\n",
    "    global number               # 使用global声明变量number为全局变量\n",
    "    number += 1\n",
    "    print(number)\n",
    "test_one()\n",
    "print(number)"
   ]
  },
  {
   "cell_type": "code",
   "execution_count": 33,
   "id": "4c711c4e",
   "metadata": {},
   "outputs": [
    {
     "name": "stdout",
     "output_type": "stream",
     "text": [
      "20\n"
     ]
    }
   ],
   "source": [
    "def test():\n",
    "    number = 10\n",
    "    def test_in():\n",
    "        nonlocal number\n",
    "        number = 20\n",
    "    test_in()\n",
    "    print(number)\n",
    "test()"
   ]
  },
  {
   "cell_type": "markdown",
   "id": "5a0b630f",
   "metadata": {},
   "source": [
    "## 递归函数"
   ]
  },
  {
   "cell_type": "code",
   "execution_count": 36,
   "id": "3d62525b",
   "metadata": {},
   "outputs": [
    {
     "name": "stdout",
     "output_type": "stream",
     "text": [
      "请输入一个整数：5\n",
      "5!=120\n"
     ]
    }
   ],
   "source": [
    "def func(num):\n",
    "    if num == 1: \n",
    "        return 1\n",
    "    else:\n",
    "        return num * func(num - 1)\n",
    "num = int(input(\"请输入一个整数：\"))\n",
    "result = func(num)\n",
    "print(\"5!=%d\"%result)"
   ]
  },
  {
   "cell_type": "markdown",
   "id": "28647939",
   "metadata": {},
   "source": [
    "## 位置参数·"
   ]
  },
  {
   "cell_type": "code",
   "execution_count": 113,
   "id": "f41d5608",
   "metadata": {},
   "outputs": [
    {
     "name": "stdout",
     "output_type": "stream",
     "text": [
      "In function:a=3,b=5\n",
      "8\n"
     ]
    }
   ],
   "source": [
    "def add(a, b):\n",
    "    print('In function:a={},b={}'.format(a,b))\n",
    "    return a+b\n",
    "\n",
    "print(add(3, 5))"
   ]
  },
  {
   "cell_type": "markdown",
   "id": "cdfc0b0e",
   "metadata": {},
   "source": [
    "## 默认值参数"
   ]
  },
  {
   "cell_type": "code",
   "execution_count": 115,
   "id": "25c4e36a",
   "metadata": {},
   "outputs": [
    {
     "name": "stdout",
     "output_type": "stream",
     "text": [
      "In function:a=3,b=5\n",
      "8\n",
      "In function:a=3,b=8\n",
      "11\n"
     ]
    }
   ],
   "source": [
    "def add(a, b=5):\n",
    "    print('In function:a={},b={}'.format(a,b))\n",
    "    return a+b\n",
    "print(add(3))\n",
    "print(add(3, 8))"
   ]
  },
  {
   "cell_type": "markdown",
   "id": "61e15a7d",
   "metadata": {},
   "source": [
    "## 关键参数"
   ]
  },
  {
   "cell_type": "code",
   "execution_count": 117,
   "id": "24d5f8f3",
   "metadata": {},
   "outputs": [
    {
     "name": "stdout",
     "output_type": "stream",
     "text": [
      "In function:a=3,b=8\n",
      "11\n"
     ]
    }
   ],
   "source": [
    "def add(a, b):\n",
    "    print('In function:a={},b={}'.format(a,b))\n",
    "    return a+b\n",
    "\n",
    "print(add(b=8, a=3))"
   ]
  },
  {
   "attachments": {
    "image-2.png": {
     "image/png": "[encoded data removed]"
    },
    "image.png": {
     "image/png": "[encoded data removed]"
    }
   },
   "cell_type": "markdown",
   "id": "c19c8ebe",
   "metadata": {},
   "source": [
    "## 可变长度参数 *args(转成元祖) **kw（转成字典）![image.png](attachment:image.png)![image-2.png](attachment:image-2.png)"
   ]
  },
  {
   "cell_type": "code",
   "execution_count": 121,
   "id": "3be1d905",
   "metadata": {},
   "outputs": [
    {
     "name": "stdout",
     "output_type": "stream",
     "text": [
      "formal arg: 1\n",
      "('youzan', 'dba', '2333')\n"
     ]
    },
    {
     "data": {
      "text/plain": [
       "'总结：\\n    参数1传入给farg\\n    剩下的3个参数传入*arg并组成元组'"
      ]
     },
     "execution_count": 121,
     "metadata": {},
     "output_type": "execute_result"
    }
   ],
   "source": [
    "def func_arg(farg, *args):\n",
    "    print(\"formal arg:\", farg)\n",
    "    print(args)\n",
    "func_arg(1,\"youzan\",'dba','2333')\n",
    "'''总结：\n",
    "    参数1传入给farg\n",
    "    剩下的3个参数传入*arg并组成元组'''"
   ]
  },
  {
   "cell_type": "code",
   "execution_count": 122,
   "id": "2bd10ecf",
   "metadata": {},
   "outputs": [
    {
     "name": "stdout",
     "output_type": "stream",
     "text": [
      "formal kw: 1\n",
      "{'a': 'youzan', 'b': 'dba', 'c': '2333'}\n"
     ]
    },
    {
     "data": {
      "text/plain": [
       "'总结：\\n    参数1传入给farg\\n    剩下的3个参数传入*arg3并组成字典'"
      ]
     },
     "execution_count": 122,
     "metadata": {},
     "output_type": "execute_result"
    }
   ],
   "source": [
    "def func_kw(farg, **kw):\n",
    "    print(\"formal kw:\", farg)\n",
    "    print(kw)\n",
    "func_kw(1,a=\"youzan\",b='dba',c='2333')\n",
    "'''总结：\n",
    "    参数1传入给farg\n",
    "    剩下的3个参数传入*arg3并组成字典'''"
   ]
  },
  {
   "cell_type": "code",
   "execution_count": 119,
   "id": "926981bc",
   "metadata": {},
   "outputs": [
    {
     "name": "stdout",
     "output_type": "stream",
     "text": [
      "In function:\n",
      "a=3\n",
      "b=8\n",
      "args=(1, 2, 3, 4)\n",
      "kwargs={'x': 5, 'y': 6, 'z': 7}\n",
      "39\n",
      "====================\n",
      "In function:\n",
      "a=1\n",
      "b=2\n",
      "args=(3, 4, 5, 6, 7, 8, 9)\n",
      "kwargs={'x': 10, 'y': 11}\n",
      "66\n"
     ]
    }
   ],
   "source": [
    "def add(a, b, *args, **kwargs):\n",
    "    print('In function:\\na={}\\nb={}\\nargs={}\\nkwargs={}'.format(a, b,args, kwargs))\n",
    "    return a+b+sum(args)+sum(kwargs.values())\n",
    "\n",
    "print(add(3, 8, 1, 2, 3, 4, x=5, y=6, z=7))\n",
    "print('='*20)\n",
    "print(add(1, 2, 3, 4, 5, 6, 7, 8, 9, x=10, y=11))"
   ]
  },
  {
   "cell_type": "markdown",
   "id": "20fed0b7",
   "metadata": {},
   "source": [
    "## count（）"
   ]
  },
  {
   "cell_type": "raw",
   "id": "bc4028bd",
   "metadata": {},
   "source": [
    "Python count() 方法用于统计字符串里某个字符出现的次数。可选参数为在字符串搜索的开始与结束位置。\n",
    "count()方法语法：str.count(sub, start= 0,end=len(string))\n",
    " 参数\n",
    "sub -- 搜索的子字符串\n",
    "start -- 字符串开始搜索的位置。默认为第一个字符,第一个字符索引值为0。\n",
    "end -- 字符串中结束搜索的位置。字符中第一个字符的索引为 0。默认为字符串的最后一个位置。\n",
    " 返回值：整型\n",
    "该方法返回子字符串在字符串中出现的次数。"
   ]
  },
  {
   "cell_type": "code",
   "execution_count": 111,
   "id": "d0bde256",
   "metadata": {},
   "outputs": [
    {
     "name": "stdout",
     "output_type": "stream",
     "text": [
      "3\n",
      "2\n",
      "0\n",
      "1\n"
     ]
    }
   ],
   "source": [
    "str = \"i love python,i am learning python\"\n",
    "\n",
    "print(str.count(\"i\")) #star 和end 为默认参数\n",
    "print(str.count(\"i\",2)) # star值为2，end值为默认参数\n",
    "print(str.count(\"i\",2,5)) #star值为2，end值为5\n",
    "print(str.count(\"am\")) #多字符统计"
   ]
  },
  {
   "cell_type": "markdown",
   "id": "1a085321",
   "metadata": {},
   "source": [
    "# eval函数"
   ]
  },
  {
   "cell_type": "raw",
   "id": "867b9992",
   "metadata": {},
   "source": [
    "# eval()函数用来执行一个字符串表达式，并返回表达式的值。还可以把字符串转化为list、tuple、dict。\n",
    "eval函数的语法：eval(expression[,globals[,locals]])\n",
    "\n",
    "参数：\n",
    "expression：表达式。\n",
    "globals：变量作用域，如果被提供，必须是一个字典对象。\n",
    "locals：变量作用域，如果被提供，可以说任何映射对象。"
   ]
  },
  {
   "cell_type": "code",
   "execution_count": 106,
   "id": "891724ce",
   "metadata": {},
   "outputs": [
    {
     "name": "stdout",
     "output_type": "stream",
     "text": [
      "[1, 2, 3, 4, 5]\n",
      "{'name': 'guo', 'age': 25}\n"
     ]
    }
   ],
   "source": [
    "a=\"[1,2,3,4,5]\"\n",
    "b=eval(a)\n",
    " # a是字符串类型数据，b是列表类型数据\n",
    "print(b)\n",
    "a=\"{'name':'guo','age':25}\"\n",
    "b=eval(a)\n",
    "# a为字符串类型数据，b为字典类型数据\n",
    "print(b)\n",
    "\n",
    "#元祖也是如此"
   ]
  },
  {
   "cell_type": "code",
   "execution_count": 109,
   "id": "b126507b",
   "metadata": {},
   "outputs": [
    {
     "name": "stdout",
     "output_type": "stream",
     "text": [
      "11\n",
      "5\n",
      "116\n"
     ]
    }
   ],
   "source": [
    "a=10;\n",
    "print(eval(\"a+1\"))\n",
    "\n",
    "a=10;\n",
    "g={'a':4}\n",
    "print(eval(\"a+1\",g))\n",
    "'''【解析】：因为现在指定了globals，所以在expression部分的作用域就\n",
    "是globals指定的字典范围内。所以此时外面的a=10被屏蔽，取用字典中的值'''\n",
    "a=10\n",
    "b=20\n",
    "c=30\n",
    "g={'a':6,'b':8}\n",
    "t={'b':100,'c':10}\n",
    "print(eval('a+b+c',g,t))"
   ]
  },
  {
   "cell_type": "markdown",
   "id": "9d7d5a35",
   "metadata": {},
   "source": [
    "# 升序降序"
   ]
  },
  {
   "cell_type": "code",
   "execution_count": 82,
   "id": "20407ed7",
   "metadata": {},
   "outputs": [
    {
     "name": "stdout",
     "output_type": "stream",
     "text": [
      "[1, 4, 3, 2, 0]\n",
      "[0, 1, 2, 3, 4]\n",
      "[0, 1, 2, 3, 4]\n",
      "[4, 3, 2, 1, 0]\n"
     ]
    }
   ],
   "source": [
    "from random import shuffle\n",
    "\n",
    "data = list(range(5))\n",
    "shuffle(data)                  # 随机打乱顺序\n",
    "print(data)\n",
    "print(sorted(data))            # 升序排序\n",
    "print(sorted(data, key=str))   # 按转换成字符串后的大小升序排序\n",
    "print(sorted(data, key=str,reverse=True))    # 降序排序"
   ]
  },
  {
   "cell_type": "code",
   "execution_count": 84,
   "id": "5b3049ff",
   "metadata": {},
   "outputs": [
    {
     "name": "stdout",
     "output_type": "stream",
     "text": [
      "[2, 4, 0, 1, 3]\n",
      "<list_reverseiterator object at 0x000001D069C0FEE0>\n",
      "[3, 1, 0, 4, 2]\n",
      "()\n"
     ]
    }
   ],
   "source": [
    "from random import shuffle\n",
    "\n",
    "data = list(range(5))         # 创建列表\n",
    "shuffle(data)                 # shuffle 随机打乱顺序\n",
    "print(data)\n",
    "reversedData = reversed(data) # 生成reversed对象\n",
    "print(reversedData)\n",
    "print(list(reversedData))     # 根据reversed对象得到列表\n",
    "print(tuple(reversedData))    # 空元组，reversed对象中元素只能使用一次"
   ]
  },
  {
   "cell_type": "markdown",
   "id": "59ff3167",
   "metadata": {},
   "source": [
    "# functools   operator是一个模块 详情可查阅资料"
   ]
  },
  {
   "cell_type": "markdown",
   "id": "fdcc4a07",
   "metadata": {},
   "source": [
    "# lambda（）"
   ]
  },
  {
   "cell_type": "code",
   "execution_count": null,
   "id": "9423ebeb",
   "metadata": {},
   "outputs": [],
   "source": [
    "1 作用：通常是用来在python中创建匿名函数的\n",
    "2 格式： lambda 参数[,参数] : 表达式\n",
    "（1）lambda定义的是单行函数， 如果需要复杂的函数，应该定义普通函数\n",
    "（2）lambda参数列表可以包含多个参数，例如 lambda x,y : x + y\n",
    "（3）lambda中的表达式不能含有命令， 而且只限一条表达式"
   ]
  },
  {
   "cell_type": "code",
   "execution_count": 39,
   "id": "88137721",
   "metadata": {},
   "outputs": [
    {
     "data": {
      "text/plain": [
       "7"
      ]
     },
     "execution_count": 39,
     "metadata": {},
     "output_type": "execute_result"
    }
   ],
   "source": [
    "add = lambda x,y:x+y\n",
    "add(3,4)"
   ]
  },
  {
   "cell_type": "code",
   "execution_count": 40,
   "id": "8da32109",
   "metadata": {},
   "outputs": [
    {
     "data": {
      "text/plain": [
       "[0, -1, -2, 3, -4, 5, -6]"
      ]
     },
     "execution_count": 40,
     "metadata": {},
     "output_type": "execute_result"
    }
   ],
   "source": [
    "my_list = [3,5,-4,-1,0,-2,-6]\n",
    "sorted(my_list, key=lambda x: abs(x))"
   ]
  },
  {
   "cell_type": "markdown",
   "id": "8fc49af2",
   "metadata": {},
   "source": [
    "# map()"
   ]
  },
  {
   "cell_type": "markdown",
   "id": "2b829207",
   "metadata": {},
   "source": [
    "map是python内置函数，会根据提供的函数对指定的序列做映射。\n",
    "map()函数的格式是：map(function,iterable,...)\n",
    "第一个参数接受一个函数名，后面的参数接受一个或多个可迭代的序列，返回的是一个集合。\n",
    "把函数依次作用在list中的每一个元素上，得到一个新的list并返回。注意，map不改变原list，而是返回一个新list。"
   ]
  },
  {
   "cell_type": "code",
   "execution_count": 29,
   "id": "85a77f20",
   "metadata": {},
   "outputs": [
    {
     "name": "stdout",
     "output_type": "stream",
     "text": [
      "1 4 9 16 25 "
     ]
    }
   ],
   "source": [
    "# 定义一个函数\n",
    "def square(x): \n",
    "    return x**2 \n",
    "# 序列\n",
    "nums = [1, 2, 3, 4, 5] \n",
    "# 对nums序列每个数求平方，返回迭代器\n",
    "nums_squared = map(square, nums) \n",
    "# 输出结果\n",
    "for num in nums_squared: \n",
    "    print(num,end=\" \")"
   ]
  },
  {
   "cell_type": "code",
   "execution_count": 61,
   "id": "05d2962c",
   "metadata": {},
   "outputs": [
    {
     "name": "stdout",
     "output_type": "stream",
     "text": [
      "1  4  9  16  25  "
     ]
    }
   ],
   "source": [
    "nums = [1, 2, 3, 4, 5] \n",
    "nums_squared = map(lambda x: x*x, nums) \n",
    "for num in nums_squared: \n",
    "    print(num,end='  ')"
   ]
  },
  {
   "cell_type": "code",
   "execution_count": 59,
   "id": "82ac56d0",
   "metadata": {},
   "outputs": [
    {
     "name": "stdout",
     "output_type": "stream",
     "text": [
      "6  14  24  36  50  "
     ]
    }
   ],
   "source": [
    "def multiply(x, y):\n",
    "    return x * y\n",
    "nums1 = [1, 2, 3, 4, 5]   # 序列1\n",
    "nums2 = [6, 7, 8, 9, 10]  # 序列2\n",
    "mult = map(multiply, nums1, nums2) # 每次从nums1和nums2中取值\n",
    "for num in mult:\n",
    "    print(num,end=\"  \")"
   ]
  },
  {
   "cell_type": "markdown",
   "id": "108dcad9",
   "metadata": {},
   "source": [
    "## 使用map()映射多个函数。"
   ]
  },
  {
   "cell_type": "code",
   "execution_count": 55,
   "id": "b1c1f488",
   "metadata": {},
   "outputs": [
    {
     "name": "stdout",
     "output_type": "stream",
     "text": [
      "[2, 1]   [4, 4]   [6, 9]   [8, 16]   [10, 25]   "
     ]
    }
   ],
   "source": [
    "def add(x):      # 函数1\n",
    "    return x + x\n",
    "def square(x):   # 函数2\n",
    "    return x * x\n",
    "nums = [1, 2, 3, 4, 5]\n",
    "\n",
    "for i in nums:    # 逐个取数处理\n",
    "    # lambda为处理函数，分别将add和square传给lambda\n",
    "    vals = list(map(lambda x: x(i), (add, square)))\n",
    "    print(vals,end='   ')"
   ]
  },
  {
   "cell_type": "markdown",
   "id": "729d0955",
   "metadata": {},
   "source": [
    "## 列表推导式"
   ]
  },
  {
   "cell_type": "code",
   "execution_count": 50,
   "id": "06825afc",
   "metadata": {},
   "outputs": [
    {
     "name": "stdout",
     "output_type": "stream",
     "text": [
      "1 4 9 16 25 "
     ]
    }
   ],
   "source": [
    "def square(x): # 定义函数\n",
    "    return x * x\n",
    "nums = [1, 2, 3, 4, 5]\n",
    "# 列表推导式相当于每次从nums中取一个数放入square中\n",
    "nums_squared = [square(num) for num in nums]\n",
    "for num in nums_squared:\n",
    "    print(num,end=\" \")"
   ]
  },
  {
   "attachments": {
    "image-2.png": {
     "image/png": "[encoded data removed]"
    },
    "image.png": {
     "image/png": "[encoded data removed]"
    }
   },
   "cell_type": "markdown",
   "id": "ab9fb5dc",
   "metadata": {},
   "source": [
    "# reduce（![image.png](attachment:image.png)![image-2.png](attachment:image-2.png)"
   ]
  },
  {
   "cell_type": "code",
   "execution_count": 45,
   "id": "ace11151",
   "metadata": {},
   "outputs": [
    {
     "data": {
      "text/plain": [
       "115"
      ]
     },
     "execution_count": 45,
     "metadata": {},
     "output_type": "execute_result"
    }
   ],
   "source": [
    "from functools import reduce\n",
    "def add(x,y):\n",
    "    return x+y\n",
    "l=[1,2,3,4,5]\n",
    "res=reduce(add,l,100)\n",
    "res"
   ]
  },
  {
   "cell_type": "code",
   "execution_count": 47,
   "id": "490541f5",
   "metadata": {},
   "outputs": [
    {
     "name": "stdout",
     "output_type": "stream",
     "text": [
      "45\n",
      "362880\n",
      "{1, 2, 3, 4}\n"
     ]
    }
   ],
   "source": [
    "from functools import reduce\n",
    "from operator import add, mul, or_\n",
    "\n",
    "seq = range(1, 10)\n",
    "print(reduce(add, seq))       # 累加seq中的数字\n",
    "print(reduce(mul, seq))       # 累乘seq中的数字\n",
    "seq = [{1}, {2}, {3}, {4}]\n",
    "print(reduce(or_, seq))       # 对seq中的集合连续进行并集运算"
   ]
  },
  {
   "cell_type": "code",
   "execution_count": 49,
   "id": "23db3868",
   "metadata": {},
   "outputs": [
    {
     "name": "stdout",
     "output_type": "stream",
     "text": [
      "15\n",
      "115\n"
     ]
    }
   ],
   "source": [
    "print(reduce(lambda x,y:x+y,[1,2,3,4,5]))\n",
    "print(reduce(lambda x,y:x+y,[1,2,3,4,5],100))"
   ]
  },
  {
   "cell_type": "code",
   "execution_count": 62,
   "id": "ac0f3402",
   "metadata": {},
   "outputs": [
    {
     "name": "stdout",
     "output_type": "stream",
     "text": [
      "<function <lambda> at 0x000001D069C725E0> [1, 2, 3, 4, 5]\n",
      "<function <lambda> at 0x000001D069C725E0> [1, 2, 3, 4, 5] 100\n"
     ]
    }
   ],
   "source": [
    "print(lambda x,y:x+y,[1,2,3,4,5])\n",
    "print(lambda x,y:x+y,[1,2,3,4,5],100)"
   ]
  },
  {
   "cell_type": "markdown",
   "id": "4d85db76",
   "metadata": {},
   "source": [
    "# filter()"
   ]
  },
  {
   "attachments": {
    "image.png": {
     "image/png": "[encoded data removed]"
    }
   },
   "cell_type": "markdown",
   "id": "518cf1dc",
   "metadata": {},
   "source": [
    "![image.png](attachment:image.png)"
   ]
  },
  {
   "cell_type": "code",
   "execution_count": 71,
   "id": "f32a1dd3",
   "metadata": {},
   "outputs": [
    {
     "name": "stdout",
     "output_type": "stream",
     "text": [
      "[0, 2, 4, 6, 8]\n"
     ]
    }
   ],
   "source": [
    "l = [x for x in range(10)]\n",
    "print(list(filter(lambda x : x%2 == 0, l)))"
   ]
  },
  {
   "cell_type": "code",
   "execution_count": 68,
   "id": "e56de4e3",
   "metadata": {},
   "outputs": [
    {
     "name": "stdout",
     "output_type": "stream",
     "text": [
      "<filter object at 0x000001D069C7AF10> <class 'filter'>\n",
      "1   3   5   7   9   "
     ]
    }
   ],
   "source": [
    "def is_odd(n):\n",
    "    \"\"\"\n",
    "    过滤出列表中的所有奇数：\n",
    "    :param n:\n",
    "    :return:\n",
    "    return n % 2 == 1\n",
    "    \"\"\"\n",
    "    return n % 2 == 1\n",
    "newlist = filter(is_odd, [1, 2, 3, 4, 5, 6, 7, 8, 9, 10])\n",
    "# <filter object at 0x0000028702478A90> <class 'filter'>\n",
    "print(newlist,type(newlist))\n",
    "for i in newlist:\n",
    "    print(i,end=\"   \")"
   ]
  },
  {
   "cell_type": "code",
   "execution_count": 70,
   "id": "0637a10f",
   "metadata": {},
   "outputs": [
    {
     "name": "stdout",
     "output_type": "stream",
     "text": [
      "<filter object at 0x000001D069C7A670>\n",
      "1  4  9  16  25  36  49  64  81  100  "
     ]
    }
   ],
   "source": [
    "#过滤出1~100中平方根是整数的数：\n",
    "import math\n",
    "\n",
    "def is_sqr(x):\n",
    "    return math.sqrt(x) % 1 == 0\n",
    "\n",
    "newlist = filter(is_sqr, range(1, 101))\n",
    "print(newlist)\n",
    "for i in newlist:\n",
    "    print(i,end=\"  \")"
   ]
  },
  {
   "cell_type": "markdown",
   "id": "9893b396",
   "metadata": {},
   "source": [
    "\n",
    "# find 方法"
   ]
  },
  {
   "cell_type": "code",
   "execution_count": null,
   "id": "e0536781",
   "metadata": {},
   "outputs": [],
   "source": [
    "寻找子字符串在某个字符串中的位置三种参数使用形式:\n",
    "第1个参数:子字符串\n",
    "第2个参数:开始查找的位置【可以省略,如果省略，默认从0开始】\n",
    "第3个参数:结束查找的位置【可以省略,如果省略，默认从最后一个位置开始】\n",
    "\n",
    "#注意:查找返回的结果是子字符串在父字符串中的第一次出现的位置的索引值，如果没有找到则返回负一\n"
   ]
  },
  {
   "cell_type": "code",
   "execution_count": 1,
   "id": "375b4ef5",
   "metadata": {},
   "outputs": [
    {
     "name": "stdout",
     "output_type": "stream",
     "text": [
      "3\n",
      "-1\n",
      "6\n",
      "-1\n",
      "6\n"
     ]
    }
   ],
   "source": [
    "s = \"刘金玉编程,编程创造城市。博客http://ljy.kim\"\n",
    "#查找编程两全字所在的位置\n",
    "print(s.find(\"编程\"))\n",
    "print(s.find(\"编程1\"))\n",
    "print(s.find(\"编程\",4))\n",
    "print(s.find(\"编程\",4,7))\n",
    "print(s.find(\"编程\",4,11))"
   ]
  },
  {
   "cell_type": "markdown",
   "id": "5b9081af",
   "metadata": {},
   "source": [
    "# index方法"
   ]
  },
  {
   "cell_type": "code",
   "execution_count": null,
   "id": "edca3b15",
   "metadata": {},
   "outputs": [],
   "source": [
    "比较index方法\n",
    "返回的是一个子字符串在原字符串中的第一次出现的位置\n",
    "''''区别: index如果没有找到子字符串，会直接报异常。而find直接返回-1"
   ]
  },
  {
   "cell_type": "markdown",
   "id": "6387b853",
   "metadata": {},
   "source": [
    "# 字符串的截取\n",
    "字符串可以看做一个序列(数组)采用字符串的分片技术"
   ]
  },
  {
   "cell_type": "code",
   "execution_count": 2,
   "id": "a580f464",
   "metadata": {},
   "outputs": [
    {
     "name": "stdout",
     "output_type": "stream",
     "text": [
      "6\n",
      "编程创造城市\n"
     ]
    }
   ],
   "source": [
    "s = \"刘金玉编程，编程创造城市。博客http://ljy.kim\"\n",
    "#查找编程两个字所在的位置\n",
    "print(s.find(\"编程\",4))\n",
    "startIndex = s.find(\"编程\",4)   #下面的从这里开始\n",
    "print (s[startIndex:startIndex+6])  "
   ]
  },
  {
   "cell_type": "markdown",
   "id": "8e67b850",
   "metadata": {},
   "source": [
    "# range"
   ]
  },
  {
   "cell_type": "code",
   "execution_count": null,
   "id": "da1af832",
   "metadata": {},
   "outputs": [],
   "source": [
    "range()函数\n",
    "·用于生成一个整数序列\n",
    "·创建range对象的三种方式\n",
    "……range(stop)  创建一个[0,stop)之间的整数序列步长为1\n",
    "……range(start,stop)创建一个[start,stop)之间的整数序列，步长为1\n",
    "……range(start,stop,step)创建一个[start,stop)之间的整数序列步长为step\n",
    "·返回值是一个迭代器对象\n",
    "range类型的优点:不管range对象表示的整数序列有多长，所有range对象占用的内存空间都是相同的,\n",
    "因为仅仅需要存储start,stop和step，只有当用到range对象时，才会去计算序列中的相关元素\n",
    "in与not in判断整数序列中是否存在(不存在)指定的整数"
   ]
  },
  {
   "cell_type": "code",
   "execution_count": 3,
   "id": "5eda00fb",
   "metadata": {},
   "outputs": [
    {
     "name": "stdout",
     "output_type": "stream",
     "text": [
      "range(0, 10)\n",
      "[0, 1, 2, 3, 4, 5, 6, 7, 8, 9]\n",
      "[1, 2, 3, 4, 5, 6, 7, 8, 9]\n",
      "[1, 3, 5, 7, 9]\n",
      "False\n",
      "True\n",
      "True\n",
      "False\n"
     ]
    }
   ],
   "source": [
    "#range()的三种创建方式\n",
    "'''第一种创建方式，只有一个参数（小括号中只给了一个数)'''\n",
    "r = range(10) #【0，1,2,3,4,5,6,7,8,9】 默认为 0 开始，默认相差 1 为步长\n",
    "print(r)  # range(0, 10)\n",
    "print(list(r))#用于查看range对象中的整数序列 —> list 列表的意思\n",
    "\n",
    "'''第二种创建方式，给了两个参数（小括号中给了两个数'''\n",
    "r = range(1,10) #指定了起始值，从1开始到10结束，默认步长为1\n",
    "print(list(r)) #[1, 2, 3, 4, 5, 6, 7, 8, 9]\n",
    "\n",
    "'''第三种创建方式，给了三个参数（小括号中给了三个数）'''\n",
    "r = range(1,10,2)\n",
    "print(list(r)) # [1, 3, 5, 7, 9]\n",
    "\n",
    "'''判断指定的整数在序列中是否存在 in ,not in\n",
    "   这里 是周后一个print的输入的 r 里面 包含的是1.3.5.7.9'''\n",
    "print(10 in r) #False ,10不在当前的r这个整数序列中\n",
    "print(9 in r) #True,9在当关的r这个序列中\n",
    "print(10 not in r) #True\n",
    "print(9 not in r) #Fals\n"
   ]
  },
  {
   "cell_type": "markdown",
   "id": "fe08e7a1",
   "metadata": {},
   "source": [
    "# zip\n",
    "zip函数的原型为：zip([iterable, …])\n",
    "\n",
    "参数iterable为可迭代的对象，并且可以有多个参数。该函数返回一个以元组为元素的列表，其中第 i 个元组包含每个参数序列的第 i 个元素。返回的列表长度被截断为最短的参数序列的长度。只有一个序列参数时，它返回一个1元组的列表。没有参数时，它返回一个空的列表。"
   ]
  },
  {
   "cell_type": "code",
   "execution_count": 4,
   "id": "0fd34575",
   "metadata": {},
   "outputs": [
    {
     "name": "stdout",
     "output_type": "stream",
     "text": [
      "<zip object at 0x000001D069C15900>\n",
      "[('1', 1), ('2', 2), ('3', 3), ('4', 4)]\n",
      "(('1', 1), ('2', 2), ('3', 3), ('4', 4))\n",
      "('1', 1)\n",
      "('2', 2)\n",
      "('3', 3)\n",
      "('4', 4)\n"
     ]
    }
   ],
   "source": [
    "data = zip('1234', [1, 2, 3, 4, 5, 6])\n",
    "print(data)\n",
    "# 在转换为列表时，使用了zip对象中的全部元素，zip对象中不再包含任何内容\n",
    "print(list(data))\n",
    "# 如果需要再次访问其中的元素，必须重新创建zip对象\n",
    "data = zip('1234', [1, 2, 3, 4, 5, 6])\n",
    "print(tuple(data))\n",
    "data = zip('1234', [1, 2, 3, 4, 5, 6])\n",
    "# zip对象是可迭代的，可以使用for循环逐个遍历和访问其中的元素\n",
    "for item in data:\n",
    "    print(item)"
   ]
  },
  {
   "cell_type": "code",
   "execution_count": 5,
   "id": "0e80e357",
   "metadata": {},
   "outputs": [
    {
     "name": "stdout",
     "output_type": "stream",
     "text": [
      "(('1', 1), ('2', 2), ('3', 3))\n"
     ]
    }
   ],
   "source": [
    "data = zip('1234', [1, 2, 3])\n",
    "print(tuple(data))"
   ]
  },
  {
   "cell_type": "code",
   "execution_count": 79,
   "id": "9834c109",
   "metadata": {},
   "outputs": [
    {
     "name": "stdout",
     "output_type": "stream",
     "text": [
      "{'zhangsan': 72, 'lisi': 68, 'wangwu': 72, 'zhangliu': 66, 'sunqi': 76}\n"
     ]
    }
   ],
   "source": [
    "names = ['zhangsan','lisi','wangwu','zhangliu','sunqi']\n",
    "weights = [72,68,72,66,76]\n",
    "\n",
    "user_weight = dict(zip(names,weights))\n",
    "#输出：{'zhangsan': 72, 'lisi': 68, 'wangwu': 72, 'zhangliu': 66, 'sunqi': 76}\n",
    "print(user_weight)"
   ]
  },
  {
   "cell_type": "markdown",
   "id": "4ddfb2b2",
   "metadata": {},
   "source": [
    "# math"
   ]
  },
  {
   "cell_type": "code",
   "execution_count": 5,
   "id": "c83ad1f3",
   "metadata": {},
   "outputs": [
    {
     "name": "stdout",
     "output_type": "stream",
     "text": [
      "0.6\n",
      "2.154434690031884\n",
      "0.7853981633974483\n",
      "3628800.0\n",
      "3.33\n",
      "3.3333\n",
      "3.141592653589793\n",
      "2.718281828459045\n"
     ]
    }
   ],
   "source": [
    "import math\n",
    "print(math.fsum([0.1,0.2,0.3])) #对浮点数精确求和函数 \n",
    "\n",
    "print(math.pow(10,1/3))# pow() math.pow( x, y ) 方法返回 xy（x 的 y 次方） 的值。\n",
    "\n",
    "print(math.atan(1))# atan() math.atan(x) 返回x的反正切弧度值。\n",
    "\n",
    "print(math.gamma(11))# 伽玛函数\n",
    "\n",
    "print(round(10.0/3,2)) # round函数对浮点数进行近似取值\n",
    "print(round(10.0/3,4)) # round函数对浮点数进行近似取值\n",
    "\n",
    "print(math.pi)\n",
    "print(math.e)"
   ]
  },
  {
   "cell_type": "markdown",
   "id": "8e355dc0",
   "metadata": {},
   "source": [
    "### max()"
   ]
  },
  {
   "cell_type": "code",
   "execution_count": 95,
   "id": "f22a513a",
   "metadata": {},
   "outputs": [
    {
     "name": "stdout",
     "output_type": "stream",
     "text": [
      "3\n",
      "abc\n",
      "Abcd\n"
     ]
    }
   ],
   "source": [
    "data = ['3', '22', '111']  # ‘’字符串的 \n",
    "print(max(data))\n",
    "data = ['abc', 'Abcd', 'ab']\n",
    "# 最大的字符串\n",
    "print(max(data))\n",
    "# 长度最大的字符串\n",
    "print(max(data, key=len))"
   ]
  },
  {
   "cell_type": "code",
   "execution_count": 97,
   "id": "23f3ad9b",
   "metadata": {},
   "outputs": [
    {
     "name": "stdout",
     "output_type": "stream",
     "text": [
      "[3, 22, 111]\n",
      "111\n",
      "3\n",
      "3\n"
     ]
    }
   ],
   "source": [
    "data = [3, 22, 111]\n",
    "print(data)\n",
    "# 对列表中的元素直接比较大小，输出最大元素\n",
    "print(max(data))\n",
    "print(min(data))\n",
    "# 返回转换成字符串之后最大的元素\n",
    "print(max(data, key=str))"
   ]
  },
  {
   "cell_type": "markdown",
   "id": "5bf2b199",
   "metadata": {},
   "source": [
    "### len()"
   ]
  },
  {
   "cell_type": "code",
   "execution_count": 123,
   "id": "9565cfe6",
   "metadata": {},
   "outputs": [
    {
     "name": "stdout",
     "output_type": "stream",
     "text": [
      "4\n",
      "19\n"
     ]
    },
    {
     "data": {
      "text/plain": [
       "2"
      ]
     },
     "execution_count": 123,
     "metadata": {},
     "output_type": "execute_result"
    }
   ],
   "source": [
    "data = [1, 2, 3, 4]\n",
    "# 列表中元素的个数\n",
    "print(len(data))\n",
    "data = 'Readability counts.'\n",
    "print(len(data))\n",
    "c={'a':1,'b':2}\n",
    "len(c)"
   ]
  },
  {
   "cell_type": "markdown",
   "id": "6587af39",
   "metadata": {},
   "source": [
    "### sum（）"
   ]
  },
  {
   "cell_type": "code",
   "execution_count": 89,
   "id": "6eb49651",
   "metadata": {},
   "outputs": [
    {
     "name": "stdout",
     "output_type": "stream",
     "text": [
      "3\n",
      "6\n",
      "3\n",
      "210\n"
     ]
    }
   ],
   "source": [
    "data = (1, 2, 3)\n",
    "print(len(data))\n",
    "print(sum(data))\n",
    "data = {97: 'a', 65: 'A', 48: '0'}\n",
    "print(len(data))\n",
    "print(sum(data))"
   ]
  },
  {
   "cell_type": "markdown",
   "id": "95d53d6c",
   "metadata": {},
   "source": [
    "# 列子·"
   ]
  },
  {
   "cell_type": "code",
   "execution_count": null,
   "id": "2eb3f9f2",
   "metadata": {
    "ExecuteTime": {
     "start_time": "2022-03-21T17:28:44.162Z"
    }
   },
   "outputs": [
    {
     "name": "stdout",
     "output_type": "stream",
     "text": [
      "=========================\n",
      "1.添加学生信息\n",
      "2.删除学生信息\n",
      "3.修改学生信息\n",
      "4.查询学生信息\n",
      "0.退出系统\n",
      "=========================\n"
     ]
    }
   ],
   "source": [
    "def print_menu():\n",
    "    print('=========================')\n",
    "    \n",
    "    print('1.添加学生信息')\n",
    "    print('2.删除学生信息')\n",
    "    print('3.修改学生信息')\n",
    "    print('4.查询学生信息')\n",
    "    print('0.退出系统')\n",
    "    print('=========================')\n",
    "def add_stu_info(stu_info,id):\n",
    "    name=input('请输入新学生的姓名：')\n",
    "    sex = input('请输入新学生的性别：')\n",
    "    if (sex!='男' and sex!='女'):\n",
    "        print('您的输入不合法，请重新输入！')\n",
    "    else:\n",
    "\n",
    "        iphone = input('请输入新学生的手机号码：')\n",
    "        stu={'序号':id,'姓名':name,'性别':sex,'手机号码':iphone}\n",
    "        stu_info.append(stu)\n",
    "def del_stu_info(stu_info,dd):\n",
    "    if len(stu_info)!=0 :\n",
    "        dl=int(input('请输入要删除的序号：'))                       #dl为删除序号\n",
    "        if dl in dd or dl<1 or dl>len(stu_info):\n",
    "            print('查询不到该生信息！！')\n",
    "        else:\n",
    "            del stu_info[dl-1]\n",
    "            dd.append(dl)\n",
    "def modify_stu_info(stu_info,dd):\n",
    "    reid=int(input('请输入要修改学生的序号：'))\n",
    "    if reid<1 or reid in dd or reid>len(stu_info):\n",
    "        print('您输入的序号不存在')\n",
    "    else:\n",
    "        rename = input('请输入要修改学生的姓名：')\n",
    "        resex = input('请输入要修改学生的性别（男/女）：')\n",
    "        reiphone = input('请输入要修改学生的手机号码：')\n",
    "        stu_info[reid-1]['姓名']=rename\n",
    "        stu_info[reid - 1]['性别'] = resex\n",
    "        stu_info[reid - 1]['手机号码'] = reiphone\n",
    "def show_stu_info(stu_info):\n",
    "    if len(stu_info)==0:\n",
    "        print('列表为空')\n",
    "    else:\n",
    "        print('序号  姓名    性别   手机号码')\n",
    "        for i in stu_info:\n",
    "            for j in i.values():\n",
    "\n",
    "                print(j,end='    ')\n",
    "            print('')\n",
    "def main():\n",
    "    stu_info=[]                                  #stu_info创建学生空列表\n",
    "    dd=[]                                        #dd创建删除学生列表\n",
    "    id=int(0)                                    #自动生成序号\n",
    "    while True:\n",
    "        print_menu()\n",
    "        ip=input('请输入功能对应的数字：')\n",
    "        if ip=='1':\n",
    "            id+=1\n",
    "            add_stu_info(stu_info,id)\n",
    "        if ip=='2':\n",
    "            del_stu_info(stu_info,dd)\n",
    "        if ip=='3':\n",
    "            modify_stu_info(stu_info,dd)\n",
    "        if ip=='4':\n",
    "            show_stu_info(stu_info)\n",
    "        if ip=='0':\n",
    "            ip1=input('亲，真的要退出吗？（yes or no）:')\n",
    "            if ip1=='yes':\n",
    "                print('谢谢使用！')\n",
    "                break\n",
    "            if ip1=='no':\n",
    "                continue\n",
    "            if ip1!='yes' or ip1!='no':\n",
    "                print('您的输入不合法！')\n",
    "if __name__=='__main__':\n",
    "    main()\n"
   ]
  },
  {
   "cell_type": "code",
   "execution_count": null,
   "id": "a814e17e",
   "metadata": {},
   "outputs": [],
   "source": []
  },
  {
   "cell_type": "code",
   "execution_count": null,
   "id": "15a46294",
   "metadata": {},
   "outputs": [],
   "source": []
  }
 ],
 "metadata": {
  "kernelspec": {
   "display_name": "Python 3 (ipykernel)",
   "language": "python",
   "name": "python3"
  },
  "language_info": {
   "codemirror_mode": {
    "name": "ipython",
    "version": 3
   },
   "file_extension": ".py",
   "mimetype": "text/x-python",
   "name": "python",
   "nbconvert_exporter": "python",
   "pygments_lexer": "ipython3",
   "version": "3.9.7"
  },
  "toc": {
   "base_numbering": 1,
   "nav_menu": {},
   "number_sections": true,
   "sideBar": true,
   "skip_h1_title": false,
   "title_cell": "Table of Contents",
   "title_sidebar": "Contents",
   "toc_cell": false,
   "toc_position": {},
   "toc_section_display": true,
   "toc_window_display": false
  },
  "varInspector": {
   "cols": {
    "lenName": 16,
    "lenType": 16,
    "lenVar": 40
   },
   "kernels_config": {
    "python": {
     "delete_cmd_postfix": "",
     "delete_cmd_prefix": "del ",
     "library": "var_list.py",
     "varRefreshCmd": "print(var_dic_list())"
    },
    "r": {
     "delete_cmd_postfix": ") ",
     "delete_cmd_prefix": "rm(",
     "library": "var_list.r",
     "varRefreshCmd": "cat(var_dic_list()) "
    }
   },
   "types_to_exclude": [
    "module",
    "function",
    "builtin_function_or_method",
    "instance",
    "_Feature"
   ],
   "window_display": false
  }
 },
 "nbformat": 4,
 "nbformat_minor": 5
}
