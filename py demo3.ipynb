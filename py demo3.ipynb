{
 "cells": [
  {
   "cell_type": "markdown",
   "id": "50a11b8e",
   "metadata": {},
   "source": [
    "# 算术运算符"
   ]
  },
  {
   "cell_type": "code",
   "execution_count": 5,
   "id": "966f5b41",
   "metadata": {
    "scrolled": true
   },
   "outputs": [
    {
     "name": "stdout",
     "output_type": "stream",
     "text": [
      "6\n",
      "-2\n",
      "8\n",
      "1.0\n",
      "1.5\n",
      "1\n",
      "2\n",
      "4\n",
      "8\n"
     ]
    }
   ],
   "source": [
    "print(2+4)#加法运算\n",
    "print( 2-4)#减法运算\n",
    "print(2*4)#乘法运算\n",
    "print(2/2)#除法运算\n",
    "print(3/2)#除法运算\n",
    "print(3//2)#5整除运算\n",
    "print(5%3)#取余运算\n",
    "print(2**2)#表示的是2的2次方  2*2\n",
    "print(2**3)#表示的是2的3次方  2*2*2"
   ]
  },
  {
   "cell_type": "code",
   "execution_count": 6,
   "id": "5f6b05c0",
   "metadata": {
    "scrolled": true
   },
   "outputs": [
    {
     "name": "stdout",
     "output_type": "stream",
     "text": [
      "2\n",
      "2\n",
      "-3\n",
      "-3\n",
      "3\n",
      "-3\n"
     ]
    }
   ],
   "source": [
    "print(9//4)\n",
    "print(-9//-4)\n",
    "print(-9//4)\n",
    "print(9//-4)#一正一负向下取整\n",
    "print(-9 % 4)#一正一负遵循公式 9-(-4)*(-3)9-12--> 3\n",
    "print(9 % -4)#余数=被除数-除数*商 9-(-4)*(-3) 9-12--> -3"
   ]
  },
  {
   "cell_type": "markdown",
   "id": "eb7a07cd",
   "metadata": {},
   "source": [
    "## 链式赋值"
   ]
  },
  {
   "cell_type": "code",
   "execution_count": 7,
   "id": "295a41dd",
   "metadata": {
    "scrolled": true
   },
   "outputs": [
    {
     "name": "stdout",
     "output_type": "stream",
     "text": [
      "7\n",
      "20 140732010604944\n",
      "20 140732010604944\n",
      "20 140732010604944\n"
     ]
    }
   ],
   "source": [
    "#链式赋值\n",
    "i = 3+4\n",
    "print(i)\n",
    "a=b=c=20 #链式赋值\n",
    "print(a,id(a))#只有一个整数对象却有三个引用，在指向这个位置上\n",
    "print(b,id(b))\n",
    "print(c,id(c))"
   ]
  },
  {
   "cell_type": "markdown",
   "id": "b53355ee",
   "metadata": {},
   "source": [
    "## 支持参数赋值"
   ]
  },
  {
   "cell_type": "code",
   "execution_count": 8,
   "id": "a41944c1",
   "metadata": {
    "scrolled": false
   },
   "outputs": [
    {
     "name": "stdout",
     "output_type": "stream",
     "text": [
      "-------支持参数赋值-------\n",
      "50\n",
      "40\n",
      "80\n",
      "<class 'int'>\n",
      "26.666666666666668\n",
      "<class 'float'>\n",
      "13.0\n",
      "<class 'float'>\n",
      "1.0\n",
      "<class 'float'>\n"
     ]
    }
   ],
   "source": [
    "#参数赋值\n",
    "print('-------支持参数赋值-------')\n",
    "a = 20\n",
    "a += 30  #相当于a=a+30\n",
    "print(a)\n",
    "a -= 10  #相当于a=a-10\n",
    "print(a)\n",
    "a *= 2  #相当于a=a*2\n",
    "print(a)\n",
    "print(type(a)) #这里还是int\n",
    "a /= 3  #相当于a=a除3\n",
    "print(a)\n",
    "print(type(a)) #这里变成float\n",
    "a //= 2  #相当于a整除2\n",
    "print(a)\n",
    "print(type(a))\n",
    "a %= 3  #相当于a=a除3后的余数\n",
    "print(a)\n",
    "print(type(a))"
   ]
  },
  {
   "cell_type": "code",
   "execution_count": 9,
   "id": "2862b460",
   "metadata": {},
   "outputs": [
    {
     "name": "stdout",
     "output_type": "stream",
     "text": [
      "相对于上面的，因为流程中没有了float类型所以全部是int不改变\n",
      "50\n",
      "40\n",
      "80\n",
      "<class 'int'>\n",
      "40\n",
      "<class 'int'>\n",
      "1\n",
      "<class 'int'>\n"
     ]
    }
   ],
   "source": [
    "print('相对于上面的，因为流程中没有了float类型所以全部是int不改变')\n",
    "a = 20\n",
    "a += 30  #相当于a=a+30\n",
    "print(a)\n",
    "a -= 10  #相当于a=a-10\n",
    "print(a)\n",
    "a *= 2  #相当于a=a*2\n",
    "print(a)\n",
    "print(type(a)) #这里还是int\n",
    "a //= 2  #相当于a整除2\n",
    "print(a)\n",
    "print(type(a))\n",
    "a %= 3  #相当于a=a除3后的余数\n",
    "print(a)\n",
    "print(type(a))"
   ]
  },
  {
   "cell_type": "markdown",
   "id": "4937211b",
   "metadata": {},
   "source": [
    "## 支持系列解包赋值，要求等号两边个数相同"
   ]
  },
  {
   "cell_type": "code",
   "execution_count": 11,
   "id": "6f489457",
   "metadata": {},
   "outputs": [
    {
     "name": "stdout",
     "output_type": "stream",
     "text": [
      "20 30 40\n"
     ]
    }
   ],
   "source": [
    "a,b,c=20,30,40\n",
    "print(a,b,c)"
   ]
  },
  {
   "cell_type": "code",
   "execution_count": 12,
   "id": "0a24b76c",
   "metadata": {},
   "outputs": [
    {
     "name": "stdout",
     "output_type": "stream",
     "text": [
      "a,b,c\n"
     ]
    }
   ],
   "source": [
    "a,b,c = 20,30,40\n",
    "print('a,b,c')#加了 ' 就变成了字符串不是赋值了"
   ]
  },
  {
   "cell_type": "code",
   "execution_count": 21,
   "id": "07e47f85",
   "metadata": {},
   "outputs": [
    {
     "ename": "ValueError",
     "evalue": "too many values to unpack (expected 2)",
     "output_type": "error",
     "traceback": [
      "\u001b[1;31m---------------------------------------------------------------------------\u001b[0m",
      "\u001b[1;31mValueError\u001b[0m                                Traceback (most recent call last)",
      "\u001b[1;32m<ipython-input-21-1a9823f2f126>\u001b[0m in \u001b[0;36m<module>\u001b[1;34m\u001b[0m\n\u001b[1;32m----> 1\u001b[1;33m \u001b[0ma\u001b[0m\u001b[1;33m,\u001b[0m\u001b[0mc\u001b[0m \u001b[1;33m=\u001b[0m \u001b[1;36m20\u001b[0m\u001b[1;33m,\u001b[0m\u001b[1;36m30\u001b[0m\u001b[1;33m,\u001b[0m\u001b[1;36m40\u001b[0m\u001b[1;33m\u001b[0m\u001b[1;33m\u001b[0m\u001b[0m\n\u001b[0m\u001b[0;32m      2\u001b[0m \u001b[0mprint\u001b[0m\u001b[1;33m(\u001b[0m\u001b[0ma\u001b[0m\u001b[1;33m,\u001b[0m\u001b[0mb\u001b[0m\u001b[1;33m,\u001b[0m\u001b[0mc\u001b[0m\u001b[1;33m)\u001b[0m \u001b[1;31m#两边数量不一\u001b[0m\u001b[1;33m\u001b[0m\u001b[1;33m\u001b[0m\u001b[0m\n",
      "\u001b[1;31mValueError\u001b[0m: too many values to unpack (expected 2)"
     ]
    }
   ],
   "source": [
    "a,c = 20,30,40\n",
    "print(a,b,c) #两边数量不一"
   ]
  },
  {
   "cell_type": "markdown",
   "id": "9ed5ac25",
   "metadata": {},
   "source": [
    "### 解包优点，交换两个变量值"
   ]
  },
  {
   "cell_type": "code",
   "execution_count": 14,
   "id": "24d3eb25",
   "metadata": {
    "scrolled": true
   },
   "outputs": [
    {
     "name": "stdout",
     "output_type": "stream",
     "text": [
      "20 30\n",
      "30 20\n"
     ]
    }
   ],
   "source": [
    "a,b = 20,30\n",
    "print(a,b)\n",
    "a,b = b,a\n",
    "print(a,b)"
   ]
  },
  {
   "cell_type": "markdown",
   "id": "b0513f52",
   "metadata": {},
   "source": [
    "# 比较运算符\n",
    "-->对变量或表达式的结果进行大小、真假等比较"
   ]
  },
  {
   "cell_type": "code",
   "execution_count": 15,
   "id": "23607278",
   "metadata": {
    "scrolled": false
   },
   "outputs": [
    {
     "name": "stdout",
     "output_type": "stream",
     "text": [
      "a>b,吗? False\n",
      "a<b,吗? True\n",
      "a<=b,吗? True\n",
      "a>=b,吗? False\n",
      "a!=b,吗? True\n"
     ]
    },
    {
     "data": {
      "text/plain": [
       "'一个 = 称为赋值运算符，两个如 == 称为比较运算符（同C）\\n  一个变量由三部分组成，标识，类型，值\\n  ==比较的是值还是标识呢? 比较的是值，比较标识用的是 is\\n  疑问——：标识是什么？？\\n'"
      ]
     },
     "execution_count": 15,
     "metadata": {},
     "output_type": "execute_result"
    }
   ],
   "source": [
    "a,b = 10,20\n",
    "print('a>b,吗?',a>b)\n",
    "a,b = 10,20\n",
    "print('a<b,吗?',a<b)\n",
    "print('a<=b,吗?',a<=b)\n",
    "print('a>=b,吗?',a>=b) \n",
    "print('a!=b,吗?',a!=b) \n",
    "\"\"\"一个 = 称为赋值运算符，两个如 == 称为比较运算符（同C）\n",
    "  一个变量由三部分组成，标识，类型，值\n",
    "  ==比较的是值还是标识呢? 比较的是值，比较标识用的是 is\n",
    "  疑问——：标识是什么？？\n",
    "\"\"\""
   ]
  },
  {
   "cell_type": "code",
   "execution_count": 16,
   "id": "897d1b15",
   "metadata": {},
   "outputs": [
    {
     "name": "stdout",
     "output_type": "stream",
     "text": [
      "True\n",
      "True\n",
      "False\n",
      "True\n",
      "False\n",
      "1924451050944\n",
      "1924450825216\n",
      "False\n",
      "True\n"
     ]
    }
   ],
   "source": [
    "a = 10\n",
    "b = 10\n",
    "print(a==b) #True说明，a与b的value相等\n",
    "print(a is b) #True说明, a与b的id标识，相等\n",
    "print(a is not b) # False  a的id与b的id是不相等的\n",
    "list1 = [11,22,33,44]\n",
    "list2 = [11,22,33,44]\n",
    "print(list1==list2)  #比较的是value 值\n",
    "print(list1 is list2) #比较的是id  标识\n",
    "print(id(list1)) # id不同\n",
    "print(id(list2))\n",
    "print(a is not b) # False  a的id与b的id是相等的\n",
    "print(list1 is not list2) # True list1的id与list2的id是不相等的"
   ]
  },
  {
   "cell_type": "markdown",
   "id": "1373f50e",
   "metadata": {},
   "source": [
    "# 布尔运算符"
   ]
  },
  {
   "cell_type": "code",
   "execution_count": 3,
   "id": "8382ba43",
   "metadata": {},
   "outputs": [
    {
     "name": "stdout",
     "output_type": "stream",
     "text": [
      "----------------and并且---------------\n",
      "True\n",
      "False\n",
      "False\n",
      "False\n",
      "----------------or或者---------------\n",
      "True\n",
      "True\n",
      "True\n",
      "False\n",
      "-------not 对bool类型操作数取反------\n",
      "False\n",
      "True\n",
      "---------------in 与not in------------\n",
      "True\n",
      "False\n",
      "False\n",
      "True\n"
     ]
    }
   ],
   "source": [
    "a,b = 1,2\n",
    "print('----------------and并且---------------')\n",
    "print(a==1 and b==2) #True  True  and True-->True\n",
    "print(a==1 and b<2)  #False True  and False -->False\n",
    "print(a!=1 and b==2) #False False and True-->False\n",
    "print(a!=1 and b!=2) #False False and False -->False\n",
    "print('----------------or或者---------------')\n",
    "print(a==1 or b==2) #True  or True -->True\n",
    "print(a==1 or b<2)  #True  or False -->True\n",
    "print(a!=1 or b==2) #False or True -->True\n",
    "print(a!=1 or b!=2) #False or False -->False\n",
    "print('-------not 对bool类型操作数取反------')\n",
    "f1=True\n",
    "f2=False\n",
    "print(not f1)\n",
    "print(not f2)\n",
    "print('---------------in 与not in------------')\n",
    "s = 'Hello world' \n",
    "print('w' in s)\n",
    "print('k' in s)\n",
    "print('w' not in s)\n",
    "print('k' not in s)# in 表示是否在这个字符串内 not in 是否不在"
   ]
  },
  {
   "cell_type": "markdown",
   "id": "5019693a",
   "metadata": {},
   "source": [
    "## 成员检测"
   ]
  },
  {
   "cell_type": "code",
   "execution_count": 8,
   "id": "8a78a6ff",
   "metadata": {},
   "outputs": [
    {
     "name": "stdout",
     "output_type": "stream",
     "text": [
      "列表1和列表2的值相同：1 True\n",
      "列表1和列表2的储存位置相同：1 True\n"
     ]
    }
   ],
   "source": [
    "list1 = ['a','b']\n",
    "list2 = ['b','a']\n",
    "list2.reverse()#位置取反\n",
    "print(\"列表1和列表2的值相同：1\",list2==list1)\n",
    "print(\"列表1和列表2的储存位置相同：1\",list2==list1)"
   ]
  },
  {
   "cell_type": "markdown",
   "id": "4eccabe3",
   "metadata": {},
   "source": [
    "# 位运算符\n",
    "————将数据转成二进制进行计算"
   ]
  },
  {
   "cell_type": "code",
   "execution_count": 18,
   "id": "0136bb86",
   "metadata": {},
   "outputs": [
    {
     "ename": "SyntaxError",
     "evalue": "invalid character in identifier (<ipython-input-18-c635a453415f>, line 1)",
     "output_type": "error",
     "traceback": [
      "\u001b[1;36m  File \u001b[1;32m\"<ipython-input-18-c635a453415f>\"\u001b[1;36m, line \u001b[1;32m1\u001b[0m\n\u001b[1;33m    位与& —>对应数位都是1，结果数位才是1，否则为0\u001b[0m\n\u001b[1;37m        ^\u001b[0m\n\u001b[1;31mSyntaxError\u001b[0m\u001b[1;31m:\u001b[0m invalid character in identifier\n"
     ]
    }
   ],
   "source": [
    "位与& —>对应数位都是1，结果数位才是1，否则为0\n",
    "位或| -->对应数位都是0,结果数位才是0， 否则为1\n",
    "左移位运算符<< -->高位溢出舍弃,低位补0\n",
    "右移位运算符>> -->低位溢出舍弃,高位补0"
   ]
  },
  {
   "cell_type": "code",
   "execution_count": 2,
   "id": "ac95a633",
   "metadata": {},
   "outputs": [
    {
     "name": "stdout",
     "output_type": "stream",
     "text": [
      "8\n",
      "16\n",
      "2\n",
      "1\n",
      "32\n",
      "0\n",
      "12\n",
      "-7\n",
      "30\n"
     ]
    }
   ],
   "source": [
    "print(4 << 1)\n",
    "#00000100左移动1位,变成00001000（8   相当于 * 2）\n",
    "print(4 << 2)\n",
    "#（4）00000100左移动2位,变成00001000（16  相当于 * 4）\n",
    "print(4 >> 1)\n",
    "#（4）00000100右移动1位,变成00000010（2   相当于 / 2）\n",
    "print(4 >> 2)\n",
    "#（4）00000100右移动2位,变成（1）00000001（1   相当于 / 4）\n",
    "print(8 << 2)\n",
    "#（8）00001000左移动2位,变成38)00100000（32  相当于 * 4）\n",
    "\n",
    "print(4 & 8) \n",
    "#00000100（4） \n",
    "#00001000（8）位与，没有都是1，则结果\n",
    "#00000000（0）\n",
    "\n",
    "print(4 | 8) \n",
    "#00000100（4） \n",
    "#00001000（8）位或，有一个是1，则结果\n",
    "#00001100（12）\n",
    "\n",
    "\n",
    "print(~6)#取反   三位来表示  \n",
    "#(进制)000000110  \n",
    "#(取反)111111001 \n",
    "#(减一)111111000\n",
    "#除了首位其他位取反10000111这个是-7\n",
    "\n",
    "\n",
    "print(10^20)#按位异或运算  如果两数位置不一样则1 一样则0    \n",
    "#00001010 \n",
    "#00010110\n",
    "#00011100  这个是30\n"
   ]
  },
  {
   "cell_type": "markdown",
   "id": "ed18d5f8",
   "metadata": {},
   "source": [
    "# 运算符优先级"
   ]
  },
  {
   "cell_type": "code",
   "execution_count": 20,
   "id": "f00542be",
   "metadata": {},
   "outputs": [
    {
     "ename": "SyntaxError",
     "evalue": "invalid character in identifier (<ipython-input-20-03ea5787a1f9>, line 1)",
     "output_type": "error",
     "traceback": [
      "\u001b[1;36m  File \u001b[1;32m\"<ipython-input-20-03ea5787a1f9>\"\u001b[1;36m, line \u001b[1;32m1\u001b[0m\n\u001b[1;33m    （）括号优先\u001b[0m\n\u001b[1;37m         ^\u001b[0m\n\u001b[1;31mSyntaxError\u001b[0m\u001b[1;31m:\u001b[0m invalid character in identifier\n"
     ]
    }
   ],
   "source": [
    "（）括号优先\n",
    "①算术（**(冥运算)>* / % > + -）\n",
    "②位运算<<,>>\n",
    "③比较（关系）<,>,>=,<=,==,!=，is，is not\n",
    "④布尔 and，or，not，in，not in\n",
    "⑤赋值  ="
   ]
  },
  {
   "cell_type": "code",
   "execution_count": 1,
   "id": "7713d135",
   "metadata": {
    "ExecuteTime": {
     "end_time": "2022-04-09T17:59:09.479693Z",
     "start_time": "2022-04-09T17:59:09.474693Z"
    }
   },
   "outputs": [
    {
     "name": "stdout",
     "output_type": "stream",
     "text": [
      "33\n",
      "10.0\n",
      "4500\n"
     ]
    }
   ],
   "source": [
    "a=20 \n",
    "b=2 \n",
    "c=15\n",
    "result_01 = (a - b) + c  # 先执行圆括号中的表达式，再执行相加运算\n",
    "result_02 = a / b % c    # 先执行除法运算，再执行取余运算\n",
    "result_03 = c ** b * a   # 先执行幂运算，再执行相乘运算\n",
    "print(result_01) \n",
    "print(result_02) \n",
    "print(result_03)"
   ]
  },
  {
   "cell_type": "markdown",
   "id": "09e21c4a",
   "metadata": {},
   "source": [
    "# 例子"
   ]
  },
  {
   "cell_type": "code",
   "execution_count": 5,
   "id": "9e021950",
   "metadata": {},
   "outputs": [
    {
     "name": "stdout",
     "output_type": "stream",
     "text": [
      "请输入第一个整数:8\n",
      "请输入第一个整数:6\n",
      "从1到第一个数的累加求和结果为: 36\n",
      "2的第二个数次幂的结果减去从1到第一个数的累加求和结果为: 28\n",
      "第一个数和第二个数都能被2整除吗？ True\n"
     ]
    }
   ],
   "source": [
    "num1 = int(input(\"请输入第一个整数:\"))\n",
    "num2 = int(input(\"请输入第一个整数:\"))\n",
    "sum = 0\n",
    "for i in range(1,num1+1):         # 这里num1 是指从1到第一个数的累加\n",
    "    sum+=i\n",
    "print(\"从1到第一个数的累加求和结果为:\",sum)\n",
    "result1 = 2**num2-sum\n",
    "print(\"2的第二个数次幂的结果减去从1到第一个数的累加求和结果为:\",result1)\n",
    "x = num1%2\n",
    "y = num2%2\n",
    "result2 = x==y     # 从上面的记录 == 为比较运算符号\n",
    "print(\"第一个数和第二个数都能被2整除吗？\",result2)"
   ]
  },
  {
   "cell_type": "markdown",
   "id": "4b849967",
   "metadata": {},
   "source": [
    "# math库"
   ]
  },
  {
   "cell_type": "markdown",
   "id": "256375a4",
   "metadata": {},
   "source": [
    "## 导入和 ceil floor fmof modf trunc"
   ]
  },
  {
   "cell_type": "code",
   "execution_count": null,
   "id": "2dd4a2ba",
   "metadata": {},
   "outputs": [],
   "source": [
    "# ① 调调用方法一\n",
    "\n",
    "import math\n",
    "print(math.ceil(10.2))#将小数部分一律向整数部分进位\n",
    "print(math.ceil(10.8))\n",
    "print(math.floor(10.8))#舍去小数，仅取整数部分\n",
    "print(math.floor(10.2))\n",
    "\n",
    "# ② 调调用方法二\n",
    "\n",
    "from math import floor\n",
    "floor(10.2)\n",
    "\n",
    "print(math.fmod(7,4))# fmod对浮点数取余\n",
    "#rem和mod函数是mtalab的？？\n",
    "print(math.modf(12.3))#  取整数部分和小数部分 小数部分误差 计算机浮点运算\n",
    "print(math.trunc(12.3))#  取整数部分"
   ]
  },
  {
   "cell_type": "markdown",
   "id": "b9a9d90e",
   "metadata": {
    "ExecuteTime": {
     "end_time": "2022-04-08T14:03:26.063617Z",
     "start_time": "2022-04-08T14:03:25.471372Z"
    }
   },
   "source": [
    "## round函数"
   ]
  },
  {
   "cell_type": "code",
   "execution_count": 2,
   "id": "b6a4c406",
   "metadata": {
    "ExecuteTime": {
     "end_time": "2022-04-08T14:03:51.996519Z",
     "start_time": "2022-04-08T14:03:51.984524Z"
    }
   },
   "outputs": [
    {
     "name": "stdout",
     "output_type": "stream",
     "text": [
      "3.3333\n"
     ]
    },
    {
     "ename": "NameError",
     "evalue": "name 'math' is not defined",
     "output_type": "error",
     "traceback": [
      "\u001b[1;31m---------------------------------------------------------------------------\u001b[0m",
      "\u001b[1;31mNameError\u001b[0m                                 Traceback (most recent call last)",
      "\u001b[1;32m<ipython-input-2-5ec0e908067a>\u001b[0m in \u001b[0;36m<module>\u001b[1;34m\u001b[0m\n\u001b[0;32m      1\u001b[0m \u001b[0mfloat\u001b[0m\u001b[1;33m(\u001b[0m\u001b[1;34m'inf'\u001b[0m\u001b[1;33m)\u001b[0m \u001b[1;33m+\u001b[0m \u001b[0mfloat\u001b[0m\u001b[1;33m(\u001b[0m\u001b[1;34m'-inf'\u001b[0m\u001b[1;33m)\u001b[0m\u001b[1;33m\u001b[0m\u001b[1;33m\u001b[0m\u001b[0m\n\u001b[0;32m      2\u001b[0m \u001b[0mprint\u001b[0m\u001b[1;33m(\u001b[0m\u001b[0mround\u001b[0m\u001b[1;33m(\u001b[0m\u001b[1;36m10.0\u001b[0m\u001b[1;33m/\u001b[0m\u001b[1;36m3\u001b[0m\u001b[1;33m,\u001b[0m\u001b[1;36m4\u001b[0m\u001b[1;33m)\u001b[0m\u001b[1;33m)\u001b[0m\u001b[1;33m\u001b[0m\u001b[1;33m\u001b[0m\u001b[0m\n\u001b[1;32m----> 3\u001b[1;33m \u001b[0mprint\u001b[0m\u001b[1;33m(\u001b[0m\u001b[0mmath\u001b[0m\u001b[1;33m.\u001b[0m\u001b[0mround\u001b[0m\u001b[1;33m(\u001b[0m\u001b[1;36m10.0\u001b[0m\u001b[1;33m/\u001b[0m\u001b[1;36m3\u001b[0m\u001b[1;33m,\u001b[0m\u001b[1;36m4\u001b[0m\u001b[1;33m)\u001b[0m\u001b[1;33m)\u001b[0m  \u001b[1;31m# 这里不能加math\u001b[0m\u001b[1;33m\u001b[0m\u001b[1;33m\u001b[0m\u001b[0m\n\u001b[0m",
      "\u001b[1;31mNameError\u001b[0m: name 'math' is not defined"
     ]
    }
   ],
   "source": [
    "float('inf') + float('-inf')\n",
    "print(round(10.0/3,4))\n",
    "print(math.round(10.0/3,4))  # 这里不能加math\n"
   ]
  },
  {
   "cell_type": "code",
   "execution_count": null,
   "id": "c9181975",
   "metadata": {},
   "outputs": [],
   "source": []
  },
  {
   "cell_type": "code",
   "execution_count": null,
   "id": "35178df9",
   "metadata": {},
   "outputs": [],
   "source": []
  },
  {
   "cell_type": "code",
   "execution_count": null,
   "id": "f5f45407",
   "metadata": {},
   "outputs": [],
   "source": []
  },
  {
   "cell_type": "code",
   "execution_count": null,
   "id": "6a9b2334",
   "metadata": {},
   "outputs": [],
   "source": []
  },
  {
   "cell_type": "markdown",
   "id": "736eaa83",
   "metadata": {},
   "source": [
    "# inf与nan函数"
   ]
  },
  {
   "cell_type": "code",
   "execution_count": null,
   "id": "4a43ca59",
   "metadata": {},
   "outputs": [],
   "source": [
    "print(math.inf) #inf无穷大  inf正无穷 -inf负无穷\n",
    "'''nan代表Not A Numberfloat('inf') + 100（不是一个数），它并不等于0，因为nan不是一个数，所以相关计算都无法得到数字'''\n",
    "\n",
    "#当涉及 > 和 < 运算时， 所有数都比 -inf 大 ，所有数都比 +inf 小。\n",
    "print(float('nan'))\n",
    "print(math.nan)  #  两种表达方\n",
    "\n",
    "print(float('inf') + 100)\n",
    "print(float('inf') - 100)\n",
    "print(float('inf') * 100)\n",
    "print(float('inf') / 100)\n",
    "print(float('-inf') + 100)\n",
    "# 对于一个无穷大 加减乘除一百还是无穷大负  ，，无穷也是如此\n",
    "\n",
    "print(float('inf') + float('-inf'))  #最后是nan\n",
    "print(float('inf') / float('-inf'))  #最后是nan\n",
    "print(float('-inf') - float('inf'))\n",
    "print(float('nan') + 100)#所有涉及nan的操作，返回的都是nan\n",
    "\n",
    "# 比较操作时，返回的都是False，哪怕两个float('nan')互相比较都不相等。\n",
    "print(float('nan') > float('inf'))\n",
    "print(float('nan') < float('inf'))\n",
    "print(float('nan') < float('-inf'))\n",
    "print(float('nan') == float('nan')) # 注意 这里是false\n",
    "\n",
    "#Python中可以用math.isinf()与math.isnan()来判断数据是否为inf或nan。\n",
    "print(math.isinf(float('inf')))\n",
    "print(math.isinf(float('-inf')))\n",
    "print(math.isnan(float('nan')))\n",
    "\n",
    "print(math.isnan(100))\n",
    "print(math.isinf(100))#判断是否无穷大或者无穷小"
   ]
  }
 ],
 "metadata": {
  "kernelspec": {
   "display_name": "Python 3 (ipykernel)",
   "language": "python",
   "name": "python3"
  },
  "language_info": {
   "codemirror_mode": {
    "name": "ipython",
    "version": 3
   },
   "file_extension": ".py",
   "mimetype": "text/x-python",
   "name": "python",
   "nbconvert_exporter": "python",
   "pygments_lexer": "ipython3",
   "version": "3.9.7"
  },
  "toc": {
   "base_numbering": 1,
   "nav_menu": {},
   "number_sections": true,
   "sideBar": true,
   "skip_h1_title": false,
   "title_cell": "Table of Contents",
   "title_sidebar": "Contents",
   "toc_cell": false,
   "toc_position": {},
   "toc_section_display": true,
   "toc_window_display": false
  },
  "varInspector": {
   "cols": {
    "lenName": 16,
    "lenType": 16,
    "lenVar": 40
   },
   "kernels_config": {
    "python": {
     "delete_cmd_postfix": "",
     "delete_cmd_prefix": "del ",
     "library": "var_list.py",
     "varRefreshCmd": "print(var_dic_list())"
    },
    "r": {
     "delete_cmd_postfix": ") ",
     "delete_cmd_prefix": "rm(",
     "library": "var_list.r",
     "varRefreshCmd": "cat(var_dic_list()) "
    }
   },
   "types_to_exclude": [
    "module",
    "function",
    "builtin_function_or_method",
    "instance",
    "_Feature"
   ],
   "window_display": false
  }
 },
 "nbformat": 4,
 "nbformat_minor": 5
}
