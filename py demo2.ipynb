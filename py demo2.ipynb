{
 "cells": [
  {
   "cell_type": "markdown",
   "id": "de1c5354",
   "metadata": {},
   "source": [
    "# 变量 \n",
    "变量是内存中一个带标签的盒子"
   ]
  },
  {
   "cell_type": "code",
   "execution_count": 16,
   "id": "9c7debe4",
   "metadata": {},
   "outputs": [],
   "source": [
    "·变量由三部分组成\n",
    "·标识:表示对象所存储的内存地址,使用内置函数id(obj)来获取\n",
    "·类型:表示的是对象的数据类型,使用内置函数type(obj)来获取\n",
    "·值:表示对象所存储的具体数据，使用print(obj)可以将值进行打印输出"
   ]
  },
  {
   "cell_type": "code",
   "execution_count": 18,
   "id": "6a3f550e",
   "metadata": {},
   "outputs": [
    {
     "name": "stdout",
     "output_type": "stream",
     "text": [
      "玛利亚\n",
      "标识 2400914641136\n",
      "类型 <class 'str'>\n",
      "值 玛利亚\n"
     ]
    }
   ],
   "source": [
    "name = '玛利亚'\n",
    "print(name)\n",
    "print('标识',id(name)) #类型地址\n",
    "print('类型',type(name))\n",
    "print('值',name)"
   ]
  },
  {
   "cell_type": "markdown",
   "id": "d2e49570",
   "metadata": {},
   "source": [
    "# ·当多次赋值之后,变量名会指向新的空间"
   ]
  },
  {
   "cell_type": "code",
   "execution_count": 23,
   "id": "86fabcfd",
   "metadata": {},
   "outputs": [
    {
     "name": "stdout",
     "output_type": "stream",
     "text": [
      "大佬\n"
     ]
    }
   ],
   "source": [
    "name = '玛利亚'#这个将会变成内存垃圾\n",
    "name = '大佬'\n",
    "print(name)"
   ]
  },
  {
   "cell_type": "code",
   "execution_count": 1,
   "id": "e10a44c9",
   "metadata": {},
   "outputs": [
    {
     "name": "stdout",
     "output_type": "stream",
     "text": [
      "玛利亚\n",
      "大佬\n"
     ]
    }
   ],
   "source": [
    "name = '玛利亚'\n",
    "print(name)\n",
    "name = '大佬'\n",
    "print(name)"
   ]
  },
  {
   "cell_type": "markdown",
   "id": "23c6441d",
   "metadata": {},
   "source": [
    "# 数据类型"
   ]
  },
  {
   "cell_type": "code",
   "execution_count": 24,
   "id": "3c02f8fb",
   "metadata": {},
   "outputs": [],
   "source": [
    "·常用的数据类型\n",
    "·整数类型→int >98\n",
    "·浮点数类型→float>3.14159\n",
    "·布尔类型>bool →>True ,False # Ture = 1, False = 非 1 \n",
    "·字符串类型→str →'人生苦短，我用Python'#单双三引号都是字符串类"
   ]
  },
  {
   "cell_type": "markdown",
   "id": "be0c5ca6",
   "metadata": {},
   "source": [
    "## ·整数类型"
   ]
  },
  {
   "cell_type": "markdown",
   "id": "fb7a1327",
   "metadata": {},
   "source": [
    "·可以表示 正数，负数，0\n",
    "·表示都是（0（数字））（(x)（字母））\n",
    "十进制→默认的进制\n",
    "·二进制→以0b开头\n",
    "·八进制→以0o开头\n",
    "·十六进制→Ox开头  指针就是16进制"
   ]
  },
  {
   "cell_type": "code",
   "execution_count": 3,
   "id": "a87f3da4",
   "metadata": {
    "ExecuteTime": {
     "end_time": "2022-04-08T05:16:03.051004Z",
     "start_time": "2022-04-08T05:16:03.044011Z"
    }
   },
   "outputs": [
    {
     "name": "stdout",
     "output_type": "stream",
     "text": [
      "90 <class 'int'>\n",
      "-12 <class 'int'>\n",
      "0 <class 'int'>\n"
     ]
    }
   ],
   "source": [
    "n1 = 90\n",
    "n2 = -12\n",
    "n3 = 0\n",
    "print(n1,type(n1))\n",
    "print(n2,type(n3))\n",
    "print(n3,type(n3))"
   ]
  },
  {
   "cell_type": "code",
   "execution_count": 28,
   "id": "400a665e",
   "metadata": {},
   "outputs": [
    {
     "name": "stdout",
     "output_type": "stream",
     "text": [
      "十进制 118\n",
      "二进制 175\n",
      "八进制 126\n",
      "十六进制 7855\n"
     ]
    }
   ],
   "source": [
    "print('十进制',118)\n",
    "print('二进制',0b10101111)#二进制以0b开头\n",
    "print('八进制',0o176)#八进制以0o开头\n",
    "print('十六进制',0x1EAF)"
   ]
  },
  {
   "cell_type": "code",
   "execution_count": 29,
   "id": "58fa9608",
   "metadata": {
    "scrolled": true
   },
   "outputs": [
    {
     "ename": "SyntaxError",
     "evalue": "invalid digit '8' in octal literal (<ipython-input-29-ad6d30171b62>, line 2)",
     "output_type": "error",
     "traceback": [
      "\u001b[1;36m  File \u001b[1;32m\"<ipython-input-29-ad6d30171b62>\"\u001b[1;36m, line \u001b[1;32m2\u001b[0m\n\u001b[1;33m    print('八进制',0o186)\u001b[0m\n\u001b[1;37m                   ^\u001b[0m\n\u001b[1;31mSyntaxError\u001b[0m\u001b[1;31m:\u001b[0m invalid digit '8' in octal literal\n"
     ]
    }
   ],
   "source": [
    "print('八进制',0o186)            #八进制不能超过八"
   ]
  },
  {
   "cell_type": "code",
   "execution_count": 5,
   "id": "ee06965f",
   "metadata": {
    "ExecuteTime": {
     "end_time": "2022-04-15T09:10:31.954232Z",
     "start_time": "2022-04-15T09:10:31.914404Z"
    }
   },
   "outputs": [
    {
     "ename": "NameError",
     "evalue": "name 'Ob10101111' is not defined",
     "output_type": "error",
     "traceback": [
      "\u001b[1;31m---------------------------------------------------------------------------\u001b[0m",
      "\u001b[1;31mNameError\u001b[0m                                 Traceback (most recent call last)",
      "Input \u001b[1;32mIn [5]\u001b[0m, in \u001b[0;36m<cell line: 1>\u001b[1;34m()\u001b[0m\n\u001b[1;32m----> 1\u001b[0m \u001b[38;5;28mprint\u001b[39m(\u001b[38;5;124m'\u001b[39m\u001b[38;5;124m二进制\u001b[39m\u001b[38;5;124m'\u001b[39m,\u001b[43mOb10101111\u001b[49m)\n",
      "\u001b[1;31mNameError\u001b[0m: name 'Ob10101111' is not defined"
     ]
    }
   ],
   "source": [
    "print('二进制',Ob10101111)       #是0（数字）不是O(字母)"
   ]
  },
  {
   "cell_type": "markdown",
   "id": "59124f91",
   "metadata": {},
   "source": [
    "## 浮点类型"
   ]
  },
  {
   "cell_type": "code",
   "execution_count": null,
   "id": "56672e02",
   "metadata": {},
   "outputs": [],
   "source": [
    "·浮点数整数部分和小数部分组成\n",
    "·浮点数存储不精确性\n",
    "·使用浮点数进行计算时，可能会出现小数位数不确定的情况"
   ]
  },
  {
   "cell_type": "code",
   "execution_count": 1,
   "id": "8b1eb550",
   "metadata": {
    "ExecuteTime": {
     "end_time": "2022-04-08T03:42:38.770777Z",
     "start_time": "2022-04-08T03:42:38.752789Z"
    }
   },
   "outputs": [
    {
     "data": {
      "text/plain": [
       "0.00314"
      ]
     },
     "execution_count": 1,
     "metadata": {},
     "output_type": "execute_result"
    }
   ],
   "source": [
    "-3.14e2 # 即-314 \n",
    "3.14e-3 # 即0.00314"
   ]
  },
  {
   "cell_type": "code",
   "execution_count": 2,
   "id": "a62f86a3",
   "metadata": {
    "ExecuteTime": {
     "end_time": "2022-04-08T03:42:53.387535Z",
     "start_time": "2022-04-08T03:42:53.377514Z"
    }
   },
   "outputs": [
    {
     "name": "stdout",
     "output_type": "stream",
     "text": [
      "inf\n",
      "-inf\n"
     ]
    }
   ],
   "source": [
    "print(3.14e500) \n",
    "print(-3.14e500)"
   ]
  },
  {
   "cell_type": "code",
   "execution_count": 11,
   "id": "b03c05f2",
   "metadata": {},
   "outputs": [
    {
     "name": "stdout",
     "output_type": "stream",
     "text": [
      "3.1\n",
      "<class 'float'>\n",
      "3.14159 <class 'float'>\n"
     ]
    }
   ],
   "source": [
    "#整数加浮点数等于浮点数\n",
    "\n",
    "#运算变成更宽的类型\n",
    "\n",
    "x = 1.1 + 2\n",
    "print(x)\n",
    "print(type(x))\n",
    "a = 3.14159\n",
    "print(a,type(a))"
   ]
  },
  {
   "cell_type": "markdown",
   "id": "38e8bdcf",
   "metadata": {},
   "source": [
    "### 浮点数不精确"
   ]
  },
  {
   "cell_type": "code",
   "execution_count": 41,
   "id": "5f499248",
   "metadata": {},
   "outputs": [
    {
     "name": "stdout",
     "output_type": "stream",
     "text": [
      "3.3000000000000003\n",
      "3.2\n"
     ]
    }
   ],
   "source": [
    "n1 = 1.1\n",
    "n2 = 2.2\n",
    "n3 = 2.1\n",
    "print(n1+n2)\n",
    "print(n1+n3)#不是所有的不精确"
   ]
  },
  {
   "cell_type": "markdown",
   "id": "e9d3be3e",
   "metadata": {},
   "source": [
    "### 解决方案·导入模块decimal"
   ]
  },
  {
   "cell_type": "code",
   "execution_count": 49,
   "id": "02b82fd0",
   "metadata": {},
   "outputs": [
    {
     "name": "stdout",
     "output_type": "stream",
     "text": [
      "3.3\n"
     ]
    }
   ],
   "source": [
    "from decimal import Decimal\n",
    "print(Decimal('1.1') +Decimal('2.2'))"
   ]
  },
  {
   "cell_type": "markdown",
   "id": "765481bf",
   "metadata": {},
   "source": [
    "## 布尔类型"
   ]
  },
  {
   "cell_type": "code",
   "execution_count": null,
   "id": "2b18cba4",
   "metadata": {},
   "outputs": [],
   "source": [
    "·用来表示真或假的值\n",
    "· True表示真, False表示假\n",
    "·布尔值可以转化为整数\n",
    "· True→1\n",
    "· False→0\n",
    "·以下对象的布尔值为False\n",
    "False\n",
    "数值O\n",
    "None\n",
    "空字符串\n",
    "空列表\n",
    "空元组\n",
    "空字典\n",
    "空集合"
   ]
  },
  {
   "cell_type": "code",
   "execution_count": 6,
   "id": "7c55ad8d",
   "metadata": {},
   "outputs": [
    {
     "name": "stdout",
     "output_type": "stream",
     "text": [
      "True <class 'bool'>\n",
      "False <class 'bool'>\n",
      "False\n",
      "False\n",
      "False\n",
      "False\n",
      "False\n",
      "False\n",
      "False\n",
      "False\n",
      "False\n",
      "False\n",
      "False\n",
      "False\n",
      "False\n",
      "------------其它对象的布尔值均为True------------\n"
     ]
    }
   ],
   "source": [
    "f1 = True\n",
    "f2 = False\n",
    "print(f1,type(f1))\n",
    "print(f2,type(f2))\n",
    "print(\"------------以下对象的布尔值均为True------------\")\n",
    "print(bool(False)) #False\n",
    "print(bool(0))     #False\n",
    "print(bool(0.0))   #False\n",
    "print(bool (None)) #False\n",
    "print(bool(''))   #False 空字符串\n",
    "print(bool(\"\"))   #False 空字符串\n",
    "print(bool([]))      #空列表\n",
    "print(bool(list()))  #空列表\n",
    "print(bool(()))      #空元祖  \n",
    "print(bool(tuple())) #空元祖  \n",
    "print(bool({}))      #空字典\n",
    "print(bool(dict()))  #空字典\n",
    "print(bool(set()))   #空集合\n",
    "print(\"------------其它对象的布尔值均为True------------\")"
   ]
  },
  {
   "cell_type": "markdown",
   "id": "f2d0a2f6",
   "metadata": {},
   "source": [
    "布尔值可以转化整数"
   ]
  },
  {
   "cell_type": "code",
   "execution_count": 51,
   "id": "e00208c8",
   "metadata": {},
   "outputs": [
    {
     "name": "stdout",
     "output_type": "stream",
     "text": [
      "True\n"
     ]
    }
   ],
   "source": [
    "print(f1)#这样不行"
   ]
  },
  {
   "cell_type": "code",
   "execution_count": 53,
   "id": "3fe4822a",
   "metadata": {},
   "outputs": [
    {
     "name": "stdout",
     "output_type": "stream",
     "text": [
      "2\n",
      "0\n"
     ]
    }
   ],
   "source": [
    "print(f1+1)#1+1的结果为2，True表示1\n",
    "print(f2+0)#0+0的结果为0, False表示0"
   ]
  },
  {
   "cell_type": "markdown",
   "id": "f94cc79c",
   "metadata": {},
   "source": [
    "## 字符串类型"
   ]
  },
  {
   "cell_type": "code",
   "execution_count": null,
   "id": "5a74dd53",
   "metadata": {},
   "outputs": [],
   "source": [
    "·字符串又被称为不可变的字符序列\n",
    "·可以使用单引号”双引号\"\"”三引号\"\"或\"\"”\"\"\"来定义\n",
    "·单引号和双引号定义的字符串必须在一行\n",
    "·三引号定义的字符串可以分布在连续的多行"
   ]
  },
  {
   "cell_type": "code",
   "execution_count": 3,
   "id": "6f641f68",
   "metadata": {},
   "outputs": [
    {
     "name": "stdout",
     "output_type": "stream",
     "text": [
      "人生苦短，why not a try <class 'str'>\n",
      "why not a try <class 'str'>\n",
      "人生苦短，人生苦短，why not a try <class 'str'>\n",
      "人生苦短，\n",
      "why not a try <class 'str'>\n",
      "人生苦短，why not a try <class 'str'>\n",
      "人生苦短，\n",
      "why not a try <class 'str'>\n"
     ]
    }
   ],
   "source": [
    "str1 = '人生苦短，why not a try'\n",
    "str2 = \"why not a try\"\n",
    "str3 = '''人生苦短，人生苦短，why not a try'''\n",
    "str4= '''人生苦短，\n",
    "why not a try'''\n",
    "str5 = \"\"\"人生苦短，why not a try\"\"\"\n",
    "str6 = \"\"\"人生苦短，\n",
    "why not a try\"\"\"\n",
    "\n",
    "print(str1,type(str1))\n",
    "print(str2,type(str2))\n",
    "print(str3,type(str3))\n",
    "print(str4,type(str4))\n",
    "print(str5,type(str5))\n",
    "print(str6,type(str6))"
   ]
  },
  {
   "cell_type": "code",
   "execution_count": 61,
   "id": "e6345a36",
   "metadata": {},
   "outputs": [
    {
     "ename": "SyntaxError",
     "evalue": "invalid character in identifier (<ipython-input-61-b548ed6666ec>, line 1)",
     "output_type": "error",
     "traceback": [
      "\u001b[1;36m  File \u001b[1;32m\"<ipython-input-61-b548ed6666ec>\"\u001b[1;36m, line \u001b[1;32m1\u001b[0m\n\u001b[1;33m    str1 = ''人生苦短，why not a try''\u001b[0m\n\u001b[1;37m                    ^\u001b[0m\n\u001b[1;31mSyntaxError\u001b[0m\u001b[1;31m:\u001b[0m invalid character in identifier\n"
     ]
    }
   ],
   "source": [
    "str1 = ''人生苦短，why not a try''\n",
    "str1 =\"\"人生苦短，why not a try\"\" #不能用两个单引号或者双引号\n",
    "str2 = \"人生苦短，\n",
    "why not a try\"\n",
    "str1 = '人生苦短，\n",
    "why not a try'#单或者双引号不能换行"
   ]
  },
  {
   "cell_type": "markdown",
   "id": "dfa2f346",
   "metadata": {},
   "source": [
    "## 复数"
   ]
  },
  {
   "cell_type": "code",
   "execution_count": 5,
   "id": "6f810dbd",
   "metadata": {
    "ExecuteTime": {
     "end_time": "2022-04-08T05:17:25.021216Z",
     "start_time": "2022-04-08T05:17:25.012221Z"
    }
   },
   "outputs": [
    {
     "name": "stdout",
     "output_type": "stream",
     "text": [
      "<class 'complex'>\n",
      "c1+c2 (18-1j)\n",
      "c1*c2 (72.24-13.2j)\n"
     ]
    }
   ],
   "source": [
    "z = 1.23e+89j\n",
    "print(type(z))\n",
    "c1 = 12 + 0.2j\n",
    "c2 = 6 - 1.2j\n",
    "#对负数进行运算\n",
    "print(\"c1+c2\",c1+c2)\n",
    "print(\"c1*c2\",c1*c2)"
   ]
  },
  {
   "cell_type": "code",
   "execution_count": null,
   "id": "77095c5e",
   "metadata": {},
   "outputs": [],
   "source": [
    "我们把形如z=a+bi(ab均为实教)的数称为复数,其中a称为实部，b称为虚部，i为虚数单位。\n",
    "当z的虚部等于零时,常称z为实数;当z的虚部不等于零时，实部等于零时，常称z为纯虚数\n",
    "复数域是实s域的代教闭包，即任何复系教多项式在复教域中总有根。\n",
    "a，b都是浮点类型，虚数部分用j或者J标识\n",
    "# complcx(rcal,imag) 创建复数"
   ]
  },
  {
   "cell_type": "code",
   "execution_count": 5,
   "id": "f07b723e",
   "metadata": {
    "ExecuteTime": {
     "end_time": "2022-04-08T03:46:18.938007Z",
     "start_time": "2022-04-08T03:46:18.922485Z"
    },
    "scrolled": true
   },
   "outputs": [
    {
     "name": "stdout",
     "output_type": "stream",
     "text": [
      "1.0\n",
      "2.0\n"
     ]
    }
   ],
   "source": [
    "complex_one = 1 + 2j # 实部为 1，虚部为 2 \n",
    "complex_two = 2j # 实部为 0，虚部为 2\n",
    "complex_one = 1 + 2j \n",
    "print(complex_one.real) # 获取复数实部\n",
    "print(complex_one.imag) # 获取复数虚部"
   ]
  },
  {
   "cell_type": "markdown",
   "id": "5bfcad80",
   "metadata": {},
   "source": [
    "# ptyhon中的注释"
   ]
  },
  {
   "cell_type": "code",
   "execution_count": null,
   "id": "387a497c",
   "metadata": {},
   "outputs": [],
   "source": [
    "·在代码中对代码的功能进行解释说明的标注性文字，可以提高代码的可读性\n",
    "·注释的内容会被Python解释器忽略\n",
    "通常包括三种类型的注释\n",
    "·单行注释→以\"#\"开头,直到换行结束\n",
    "·多行注释>并没有单独的多行注释标记，将一对三引号之间的代码称为多行注释\n",
    "·中文编码声明注释→在文件开头加上中文声明注释．用以指定源码文件的编码格式"
   ]
  },
  {
   "cell_type": "code",
   "execution_count": 111,
   "id": "8198a012",
   "metadata": {},
   "outputs": [
    {
     "name": "stdout",
     "output_type": "stream",
     "text": [
      "hello\n"
     ]
    },
    {
     "data": {
      "text/plain": [
       "'嘿嘿\\n我是\\n多行注释'"
      ]
     },
     "execution_count": 111,
     "metadata": {},
     "output_type": "execute_result"
    }
   ],
   "source": [
    " #输入功能（单行注释）\n",
    "print('hello')\n",
    "'''嘿嘿\n",
    "我是\n",
    "多行注释'''"
   ]
  },
  {
   "cell_type": "markdown",
   "id": "4b348b26",
   "metadata": {},
   "source": [
    "# 数据类型转换"
   ]
  },
  {
   "cell_type": "markdown",
   "id": "ceb3c0e9",
   "metadata": {},
   "source": [
    "## 引入"
   ]
  },
  {
   "cell_type": "code",
   "execution_count": 16,
   "id": "e799ea76",
   "metadata": {
    "ExecuteTime": {
     "end_time": "2022-04-08T05:11:19.361322Z",
     "start_time": "2022-04-08T05:11:19.345602Z"
    }
   },
   "outputs": [
    {
     "name": "stdout",
     "output_type": "stream",
     "text": [
      "4\n",
      "3.0\n"
     ]
    }
   ],
   "source": [
    "print(int(4.5))#整形去掉小数部分\n",
    "print(float(3))#加小数部分"
   ]
  },
  {
   "cell_type": "code",
   "execution_count": 2,
   "id": "cc3bf53b",
   "metadata": {
    "ExecuteTime": {
     "end_time": "2022-04-09T17:42:33.767971Z",
     "start_time": "2022-04-09T17:42:30.802118Z"
    }
   },
   "outputs": [
    {
     "name": "stdout",
     "output_type": "stream",
     "text": [
      "请输入一个加数：10\n",
      "请输入一个加数：20\n",
      "<class 'str'> <class 'str'>\n",
      "1020\n"
     ]
    }
   ],
   "source": [
    "a = input('请输入一个加数：')\n",
    "b = input('请输入一个加数：')\n",
    "print(type(a),type(b))\n",
    "print(a + b) \n",
    "\n",
    "#这里str加str类型"
   ]
  },
  {
   "cell_type": "code",
   "execution_count": 1,
   "id": "ab18bd0d",
   "metadata": {
    "ExecuteTime": {
     "end_time": "2022-04-09T17:42:16.363375Z",
     "start_time": "2022-04-09T17:42:13.455107Z"
    }
   },
   "outputs": [
    {
     "name": "stdout",
     "output_type": "stream",
     "text": [
      "10\n",
      "20\n",
      "<class 'str'> <class 'str'>\n",
      "1020\n"
     ]
    }
   ],
   "source": [
    "#从键盘录入两个整数，计算两个整数的和\n",
    "a = input()\n",
    "b = input()\n",
    "print(type(a),type(b))\n",
    "print(a + b)\n"
   ]
  },
  {
   "cell_type": "markdown",
   "id": "0cfa9df1",
   "metadata": {},
   "source": [
    "## input输入的就是字符串，即使输入0也不是False而是字符串"
   ]
  },
  {
   "cell_type": "code",
   "execution_count": 1,
   "id": "438845dd",
   "metadata": {
    "ExecuteTime": {
     "end_time": "2022-04-08T05:14:41.272709Z",
     "start_time": "2022-04-08T05:14:38.542768Z"
    }
   },
   "outputs": [
    {
     "name": "stdout",
     "output_type": "stream",
     "text": [
      "请输入一个加数：10\n",
      "请输入一个加数：20\n",
      "<class 'int'> <class 'int'>\n",
      "30\n"
     ]
    }
   ],
   "source": [
    "# a = input('请输入一个加数：')\n",
    "a = input('请输入一个加数：')\n",
    "a = int(a)#将转换之后的结果存储到a中\n",
    "b = input('请输入一个加数：')\n",
    "b = int(b)\n",
    "print(type(a),type(b))\n",
    "print(a+b)"
   ]
  },
  {
   "cell_type": "code",
   "execution_count": 6,
   "id": "69997980",
   "metadata": {
    "ExecuteTime": {
     "end_time": "2022-04-08T05:19:00.951646Z",
     "start_time": "2022-04-08T05:19:00.943630Z"
    }
   },
   "outputs": [
    {
     "name": "stdout",
     "output_type": "stream",
     "text": [
      "<class 'str'> <class 'int'>\n"
     ]
    }
   ],
   "source": [
    "name = '狂徒张三'\n",
    "age = 20\n",
    "\n",
    "print(type(name),type(age))#说明name 与age的数据类型不相同"
   ]
  },
  {
   "cell_type": "code",
   "execution_count": 8,
   "id": "5810cc77",
   "metadata": {
    "ExecuteTime": {
     "end_time": "2022-04-08T05:19:18.069391Z",
     "start_time": "2022-04-08T05:19:18.050368Z"
    }
   },
   "outputs": [
    {
     "name": "stdout",
     "output_type": "stream",
     "text": [
      "我叫狂徒张三今年20岁\n"
     ]
    }
   ],
   "source": [
    "print('我叫'+ name +'今年'+str(age)+'岁')#将int类型通过str()函数转成了str类型"
   ]
  },
  {
   "cell_type": "code",
   "execution_count": 7,
   "id": "a430d466",
   "metadata": {
    "ExecuteTime": {
     "end_time": "2022-04-08T05:19:11.903623Z",
     "start_time": "2022-04-08T05:19:11.821537Z"
    }
   },
   "outputs": [
    {
     "ename": "TypeError",
     "evalue": "can only concatenate str (not \"int\") to str",
     "output_type": "error",
     "traceback": [
      "\u001b[1;31m---------------------------------------------------------------------------\u001b[0m",
      "\u001b[1;31mTypeError\u001b[0m                                 Traceback (most recent call last)",
      "\u001b[1;32m<ipython-input-7-fefc5d8134e2>\u001b[0m in \u001b[0;36m<module>\u001b[1;34m\u001b[0m\n\u001b[1;32m----> 1\u001b[1;33m \u001b[0mprint\u001b[0m\u001b[1;33m(\u001b[0m\u001b[1;34m'我叫'\u001b[0m\u001b[1;33m+\u001b[0m \u001b[0mname\u001b[0m \u001b[1;33m+\u001b[0m\u001b[1;34m'今年'\u001b[0m\u001b[1;33m+\u001b[0m\u001b[0mage\u001b[0m\u001b[1;33m+\u001b[0m\u001b[1;34m'岁'\u001b[0m\u001b[1;33m)\u001b[0m \u001b[1;31m#这里的 + 是连接符\u001b[0m\u001b[1;33m\u001b[0m\u001b[1;33m\u001b[0m\u001b[0m\n\u001b[0m\u001b[0;32m      2\u001b[0m \u001b[1;33m\u001b[0m\u001b[0m\n\u001b[0;32m      3\u001b[0m \u001b[1;31m#当将str类型与int类型进行连接时，报错，解决方案，类型转换，报错需要类型转换\u001b[0m\u001b[1;33m\u001b[0m\u001b[1;33m\u001b[0m\u001b[1;33m\u001b[0m\u001b[0m\n",
      "\u001b[1;31mTypeError\u001b[0m: can only concatenate str (not \"int\") to str"
     ]
    }
   ],
   "source": [
    "print('我叫'+ name +'今年'+age+'岁') #这里的 + 是连接符\n",
    "\n",
    "#当将str类型与int类型进行连接时，报错，解决方案，类型转换，报错需要类型转换"
   ]
  },
  {
   "cell_type": "markdown",
   "id": "c8b03d4b",
   "metadata": {},
   "source": [
    "## 字符串类型转化 &&几乎其他类型都能转字符串类型### "
   ]
  },
  {
   "cell_type": "code",
   "execution_count": 9,
   "id": "2897ccf3",
   "metadata": {
    "ExecuteTime": {
     "end_time": "2022-04-08T05:19:38.899416Z",
     "start_time": "2022-04-08T05:19:38.881398Z"
    }
   },
   "outputs": [
    {
     "name": "stdout",
     "output_type": "stream",
     "text": [
      "----------str()将其他类型转化成str类型--------\n",
      "<class 'int'> <class 'float'> <class 'bool'>\n",
      "10 198.8 False <class 'str'> <class 'str'> <class 'str'>\n"
     ]
    }
   ],
   "source": [
    "print('----------str()将其他类型转化成str类型--------')\n",
    "a = 10\n",
    "b = 198.8\n",
    "c = False\n",
    "\n",
    "print(type(a),type(b),type(c))\n",
    "print(str(a),str(b),str(c),type(str(a)),type(str(b)),type(str(c)))"
   ]
  },
  {
   "cell_type": "markdown",
   "id": "596c7d23",
   "metadata": {},
   "source": [
    "##  int类型转化"
   ]
  },
  {
   "cell_type": "code",
   "execution_count": 10,
   "id": "221b7dcd",
   "metadata": {
    "ExecuteTime": {
     "end_time": "2022-04-08T05:19:46.100963Z",
     "start_time": "2022-04-08T05:19:46.093965Z"
    }
   },
   "outputs": [
    {
     "name": "stdout",
     "output_type": "stream",
     "text": [
      "----------int()将其他类型转化成int类型--------\n",
      "<class 'str'> <class 'float'> <class 'str'> <class 'bool'> <class 'str'>\n",
      "128 <class 'int'>\n",
      "98 <class 'int'>\n",
      "1 <class 'int'>\n"
     ]
    }
   ],
   "source": [
    "print('----------int()将其他类型转化成int类型--------')\n",
    "s1 = '128'\n",
    "f1 = 98.7\n",
    "s2 = '76.77'\n",
    "f2 = True\n",
    "s3 = 'hellow'\n",
    "\n",
    "print(type(s1),type(f1),type(s2),type(f2),type(s3))\n",
    "print(int(s1),type(int(s1)))#将str转成int类型,字符串为数字串\n",
    "print(int(f1), type(int(f1)))#float转成int类型,截取整数部分,s,舍掉小数部分\n",
    "print(int(f2), type(int(f2)))#布尔类型可以转化成int"
   ]
  },
  {
   "cell_type": "code",
   "execution_count": 11,
   "id": "0d6314f4",
   "metadata": {
    "ExecuteTime": {
     "end_time": "2022-04-08T05:19:52.481109Z",
     "start_time": "2022-04-08T05:19:52.463106Z"
    }
   },
   "outputs": [
    {
     "ename": "NameError",
     "evalue": "name 'rint' is not defined",
     "output_type": "error",
     "traceback": [
      "\u001b[1;31m---------------------------------------------------------------------------\u001b[0m",
      "\u001b[1;31mNameError\u001b[0m                                 Traceback (most recent call last)",
      "\u001b[1;32m<ipython-input-11-eb66ded23e7e>\u001b[0m in \u001b[0;36m<module>\u001b[1;34m\u001b[0m\n\u001b[1;32m----> 1\u001b[1;33m \u001b[0mrint\u001b[0m\u001b[1;33m(\u001b[0m\u001b[0mint\u001b[0m\u001b[1;33m(\u001b[0m\u001b[0ms2\u001b[0m\u001b[1;33m)\u001b[0m\u001b[1;33m,\u001b[0m\u001b[0mtype\u001b[0m\u001b[1;33m(\u001b[0m\u001b[0mint\u001b[0m\u001b[1;33m(\u001b[0m\u001b[0ms2\u001b[0m\u001b[1;33m)\u001b[0m\u001b[1;33m)\u001b[0m\u001b[1;33m)\u001b[0m\u001b[1;33m\u001b[0m\u001b[1;33m\u001b[0m\u001b[0m\n\u001b[0m\u001b[0;32m      2\u001b[0m \u001b[1;31m#将str转成int类型，报错,因为字符串为小数串\u001b[0m\u001b[1;33m\u001b[0m\u001b[1;33m\u001b[0m\u001b[1;33m\u001b[0m\u001b[0m\n\u001b[0;32m      3\u001b[0m \u001b[0mprint\u001b[0m\u001b[1;33m(\u001b[0m\u001b[0mint\u001b[0m\u001b[1;33m(\u001b[0m\u001b[0ms3\u001b[0m\u001b[1;33m)\u001b[0m\u001b[1;33m,\u001b[0m\u001b[0mtype\u001b[0m\u001b[1;33m(\u001b[0m\u001b[0mint\u001b[0m\u001b[1;33m(\u001b[0m\u001b[0ms3\u001b[0m\u001b[1;33m)\u001b[0m\u001b[1;33m)\u001b[0m\u001b[1;33m)\u001b[0m\u001b[1;33m\u001b[0m\u001b[1;33m\u001b[0m\u001b[0m\n\u001b[0;32m      4\u001b[0m \u001b[1;31m#将str转成int类型时，字符串必须为数字串（整数），非数字串是不允许转换\u001b[0m\u001b[1;33m\u001b[0m\u001b[1;33m\u001b[0m\u001b[1;33m\u001b[0m\u001b[0m\n",
      "\u001b[1;31mNameError\u001b[0m: name 'rint' is not defined"
     ]
    }
   ],
   "source": [
    "rint(int(s2),type(int(s2)))\n",
    "#将str转成int类型，报错,因为字符串为小数串\n",
    "print(int(s3),type(int(s3)))\n",
    "#将str转成int类型时，字符串必须为数字串（整数），非数字串是不允许转换"
   ]
  },
  {
   "cell_type": "markdown",
   "id": "7aea5f21",
   "metadata": {},
   "source": [
    "## float类型转化"
   ]
  },
  {
   "cell_type": "code",
   "execution_count": 12,
   "id": "90a0882b",
   "metadata": {
    "ExecuteTime": {
     "end_time": "2022-04-08T05:20:50.748434Z",
     "start_time": "2022-04-08T05:20:50.742432Z"
    }
   },
   "outputs": [
    {
     "name": "stdout",
     "output_type": "stream",
     "text": [
      "--------float()将其他类型转化成float类型--------\n",
      "<class 'str'> <class 'int'> <class 'str'> <class 'bool'> <class 'str'>\n",
      "128.87 <class 'float'>\n",
      "98.0 <class 'float'>\n",
      "76.0 <class 'float'>\n",
      "1.0 <class 'float'>\n"
     ]
    }
   ],
   "source": [
    "print('--------float()将其他类型转化成float类型--------')\n",
    "s1 = '128.87'\n",
    "f1 = 98\n",
    "s2 = '76'\n",
    "f2 = True\n",
    "s3 = 'hellow'\n",
    "\n",
    "print(type(s1),type(f1),type(s2),type(f2),type(s3)) \n",
    "print(float(s1),type(float(s1)))\n",
    "print(float(f1),type(float(f1)))\n",
    "print(float(s2),type(float(s2)))\n",
    "print(float(f2),type(float(f2)))"
   ]
  },
  {
   "cell_type": "code",
   "execution_count": 13,
   "id": "926c3bae",
   "metadata": {
    "ExecuteTime": {
     "end_time": "2022-04-08T05:20:58.926491Z",
     "start_time": "2022-04-08T05:20:58.920494Z"
    }
   },
   "outputs": [
    {
     "ename": "ValueError",
     "evalue": "could not convert string to float: 'hellow'",
     "output_type": "error",
     "traceback": [
      "\u001b[1;31m---------------------------------------------------------------------------\u001b[0m",
      "\u001b[1;31mValueError\u001b[0m                                Traceback (most recent call last)",
      "\u001b[1;32m<ipython-input-13-2e4229151876>\u001b[0m in \u001b[0;36m<module>\u001b[1;34m\u001b[0m\n\u001b[1;32m----> 1\u001b[1;33m \u001b[0mprint\u001b[0m\u001b[1;33m(\u001b[0m\u001b[0mfloat\u001b[0m\u001b[1;33m(\u001b[0m\u001b[0ms3\u001b[0m\u001b[1;33m)\u001b[0m\u001b[1;33m,\u001b[0m\u001b[0mtype\u001b[0m\u001b[1;33m(\u001b[0m\u001b[0mfloat\u001b[0m\u001b[1;33m(\u001b[0m\u001b[0ms3\u001b[0m\u001b[1;33m)\u001b[0m\u001b[1;33m)\u001b[0m\u001b[1;33m)\u001b[0m\u001b[1;33m\u001b[0m\u001b[1;33m\u001b[0m\u001b[0m\n\u001b[0m\u001b[0;32m      2\u001b[0m \u001b[1;31m#字符串中的数据如果是非数字串，则不允许转换\u001b[0m\u001b[1;33m\u001b[0m\u001b[1;33m\u001b[0m\u001b[1;33m\u001b[0m\u001b[0m\n",
      "\u001b[1;31mValueError\u001b[0m: could not convert string to float: 'hellow'"
     ]
    }
   ],
   "source": [
    "print(float(s3),type(float(s3)))\n",
    "#字符串中的数据如果是非数字串，则不允许转换"
   ]
  },
  {
   "cell_type": "markdown",
   "id": "766a4e44",
   "metadata": {},
   "source": [
    "## ord()、chr()、str()"
   ]
  },
  {
   "cell_type": "code",
   "execution_count": 1,
   "id": "1e1a7b3f",
   "metadata": {},
   "outputs": [
    {
     "name": "stdout",
     "output_type": "stream",
     "text": [
      "97\n",
      "33891\n",
      "A\n",
      "董\n",
      "[1, 2, 3, 4]\n",
      "{1, 2, 3, 4}\n"
     ]
    }
   ],
   "source": [
    "print(ord('a'))               # 返回字符的ASCII码\n",
    "print(ord('董'))              # 返回汉字字符的Unicode编码\n",
    "print(chr(65))                # 返回指定ASCII码对应的字符\n",
    "print(chr(33891))             # 返回指定Unicode编码对应的汉字\n",
    "print(str([1, 2, 3, 4]))      # 把列表转换为字符串\n",
    "print(str({1, 2, 3, 4}))      # 把集合转换为字符串"
   ]
  },
  {
   "cell_type": "markdown",
   "id": "7375bf10",
   "metadata": {},
   "source": [
    "### bin()、oct()、hex()"
   ]
  },
  {
   "cell_type": "code",
   "execution_count": 2,
   "id": "db8782c6",
   "metadata": {},
   "outputs": [
    {
     "name": "stdout",
     "output_type": "stream",
     "text": [
      "0b10001010111000\n",
      "0o21270\n",
      "0x22b8\n"
     ]
    }
   ],
   "source": [
    "print(bin(8888))              # 把整数转换为二进制\n",
    "print(oct(8888))              # 把整数转换为八进制\n",
    "print(hex(8888))              # 把整数转换为十六进制"
   ]
  },
  {
   "cell_type": "markdown",
   "id": "d74bacfd",
   "metadata": {},
   "source": [
    "# 字符串"
   ]
  },
  {
   "cell_type": "markdown",
   "id": "6aae3b3e",
   "metadata": {},
   "source": [
    "##  使用%格式化字符串"
   ]
  },
  {
   "attachments": {
    "image.png": {
     "image/png": "[encoded data removed]"
    }
   },
   "cell_type": "markdown",
   "id": "4ff0fe16",
   "metadata": {},
   "source": [
    "![image.png](attachment:image.png)"
   ]
  },
  {
   "cell_type": "markdown",
   "id": "032caf03",
   "metadata": {
    "ExecuteTime": {
     "end_time": "2022-04-15T09:08:55.539694Z",
     "start_time": "2022-04-15T09:08:54.582945Z"
    }
   },
   "source": [
    "与%d等符号其实没什么关系"
   ]
  },
  {
   "cell_type": "code",
   "execution_count": 15,
   "id": "78d5ac47",
   "metadata": {
    "ExecuteTime": {
     "end_time": "2022-04-08T05:21:51.804558Z",
     "start_time": "2022-04-08T05:21:51.791554Z"
    },
    "scrolled": true
   },
   "outputs": [
    {
     "name": "stdout",
     "output_type": "stream",
     "text": [
      "我今年10岁。\n"
     ]
    }
   ],
   "source": [
    "value = 10\n",
    "format = '我今年%d岁。'\n",
    "print(format % value)"
   ]
  },
  {
   "cell_type": "code",
   "execution_count": 3,
   "id": "f49368c8",
   "metadata": {
    "ExecuteTime": {
     "end_time": "2022-04-15T09:07:57.006984Z",
     "start_time": "2022-04-15T09:07:56.995981Z"
    }
   },
   "outputs": [
    {
     "name": "stdout",
     "output_type": "stream",
     "text": [
      "我今年11岁。\n"
     ]
    }
   ],
   "source": [
    "value = 10\n",
    "a = 11\n",
    "format = '我今年%d岁。'\n",
    "print(format % a)"
   ]
  },
  {
   "cell_type": "code",
   "execution_count": 9,
   "id": "b53663cd",
   "metadata": {
    "ExecuteTime": {
     "end_time": "2022-04-09T18:04:03.569017Z",
     "start_time": "2022-04-09T18:04:03.561005Z"
    }
   },
   "outputs": [
    {
     "ename": "TypeError",
     "evalue": "%d format: a number is required, not str",
     "output_type": "error",
     "traceback": [
      "\u001b[1;31m---------------------------------------------------------------------------\u001b[0m",
      "\u001b[1;31mTypeError\u001b[0m                                 Traceback (most recent call last)",
      "\u001b[1;32m<ipython-input-9-6e01f263f536>\u001b[0m in \u001b[0;36m<module>\u001b[1;34m\u001b[0m\n\u001b[0;32m      1\u001b[0m \u001b[0mvalue\u001b[0m \u001b[1;33m=\u001b[0m \u001b[1;34m'周一'\u001b[0m\u001b[1;33m\u001b[0m\u001b[1;33m\u001b[0m\u001b[0m\n\u001b[0;32m      2\u001b[0m \u001b[0mformat\u001b[0m \u001b[1;33m=\u001b[0m \u001b[1;34m'今天是%d'\u001b[0m\u001b[1;33m\u001b[0m\u001b[1;33m\u001b[0m\u001b[0m\n\u001b[1;32m----> 3\u001b[1;33m \u001b[0mprint\u001b[0m\u001b[1;33m(\u001b[0m\u001b[0mformat\u001b[0m \u001b[1;33m%\u001b[0m \u001b[0mvalue\u001b[0m\u001b[1;33m)\u001b[0m \u001b[1;31m#周一是字符串类型\u001b[0m\u001b[1;33m\u001b[0m\u001b[1;33m\u001b[0m\u001b[0m\n\u001b[0m",
      "\u001b[1;31mTypeError\u001b[0m: %d format: a number is required, not str"
     ]
    }
   ],
   "source": [
    "value = '周一'\n",
    "format = '今天是%d'\n",
    "print(format % value) #周一是字符串类型"
   ]
  },
  {
   "cell_type": "code",
   "execution_count": 8,
   "id": "639cdeb6",
   "metadata": {
    "ExecuteTime": {
     "end_time": "2022-04-09T18:03:45.289347Z",
     "start_time": "2022-04-09T18:03:45.272344Z"
    }
   },
   "outputs": [
    {
     "name": "stdout",
     "output_type": "stream",
     "text": [
      "今天是周一\n"
     ]
    }
   ],
   "source": [
    "value = '周一'\n",
    "format = '今天是%s'\n",
    "print(format % value)"
   ]
  },
  {
   "cell_type": "code",
   "execution_count": 3,
   "id": "e4513987",
   "metadata": {
    "ExecuteTime": {
     "end_time": "2022-04-09T18:02:43.713745Z",
     "start_time": "2022-04-09T18:02:43.699749Z"
    }
   },
   "outputs": [
    {
     "name": "stdout",
     "output_type": "stream",
     "text": [
      "---------------------\n",
      "姓名：张倩\n",
      "年龄：27岁\n",
      "家庭住址：北京市昌平区\n",
      "---------------------\n"
     ]
    }
   ],
   "source": [
    "name = '张倩'\n",
    "age = 27\n",
    "address = '北京市昌平区'\n",
    "print('---------------------')\n",
    "print(\"姓名：%s\" % name)\n",
    "print(\"年龄：%d岁\\n家庭住址：%s\" % (age, address))\n",
    "print('---------------------')"
   ]
  },
  {
   "cell_type": "markdown",
   "id": "fe54ebb1",
   "metadata": {},
   "source": [
    "##   使用format.......\n",
    "format常见用法包括格式化填充字符,文本的填充与对齐,格式转换等."
   ]
  },
  {
   "cell_type": "code",
   "execution_count": 10,
   "id": "c1dd547b",
   "metadata": {
    "ExecuteTime": {
     "end_time": "2022-04-09T18:04:30.486256Z",
     "start_time": "2022-04-09T18:04:30.473233Z"
    }
   },
   "outputs": [
    {
     "name": "stdout",
     "output_type": "stream",
     "text": [
      "姓名：张倩\n"
     ]
    }
   ],
   "source": [
    "name = '张倩'\n",
    "string = \"姓名：{}\"\n",
    "print(string.format(name))"
   ]
  },
  {
   "cell_type": "code",
   "execution_count": 11,
   "id": "b76e39ba",
   "metadata": {
    "ExecuteTime": {
     "end_time": "2022-04-09T18:04:48.259557Z",
     "start_time": "2022-04-09T18:04:48.243534Z"
    }
   },
   "outputs": [
    {
     "name": "stdout",
     "output_type": "stream",
     "text": [
      "姓名：张倩\n",
      "年龄：25\n"
     ]
    }
   ],
   "source": [
    "name = '张倩'\n",
    "age = 25\n",
    "string = \"姓名：{}\\n年龄：{}\"\n",
    "print(string.format(name, age))"
   ]
  },
  {
   "cell_type": "code",
   "execution_count": 12,
   "id": "0d05a280",
   "metadata": {
    "ExecuteTime": {
     "end_time": "2022-04-09T18:05:35.436732Z",
     "start_time": "2022-04-09T18:05:35.428726Z"
    }
   },
   "outputs": [
    {
     "name": "stdout",
     "output_type": "stream",
     "text": [
      "姓名：张倩\n",
      "年龄：25\n"
     ]
    }
   ],
   "source": [
    "name = '张倩'\n",
    "age = 25\n",
    "string = \"姓名：{1}\\n年龄：{0}\"\n",
    "print(string.format(age, name))"
   ]
  },
  {
   "cell_type": "code",
   "execution_count": 14,
   "id": "39228303",
   "metadata": {
    "ExecuteTime": {
     "end_time": "2022-04-09T18:06:29.374990Z",
     "start_time": "2022-04-09T18:06:29.368996Z"
    }
   },
   "outputs": [
    {
     "name": "stdout",
     "output_type": "stream",
     "text": [
      "姓名：张倩\n",
      "年龄：25\n",
      "体重：65kg\n"
     ]
    }
   ],
   "source": [
    "name = '张倩'\n",
    "age = 25\n",
    "weight = 65\n",
    "string = \"姓名：{name}\\n年龄：{age}\\n体重：{weight}kg\"\n",
    "print(string.format(name=name, weight=weight, age=age))"
   ]
  },
  {
   "cell_type": "code",
   "execution_count": 15,
   "id": "27782bc3",
   "metadata": {
    "ExecuteTime": {
     "end_time": "2022-04-09T18:07:15.259930Z",
     "start_time": "2022-04-09T18:07:15.245920Z"
    }
   },
   "outputs": [
    {
     "name": "stdout",
     "output_type": "stream",
     "text": [
      "所占百分比: 86.36%\n"
     ]
    }
   ],
   "source": [
    "points = 19\n",
    "total = 22\n",
    "print('所占百分比: {:.2%}'.format(points/total))  # 保留两位小数"
   ]
  },
  {
   "cell_type": "code",
   "execution_count": 6,
   "id": "a1df1453",
   "metadata": {
    "ExecuteTime": {
     "end_time": "2022-04-15T09:22:36.916540Z",
     "start_time": "2022-04-15T09:22:36.892431Z"
    }
   },
   "outputs": [
    {
     "name": "stdout",
     "output_type": "stream",
     "text": [
      "\n",
      "注意你的思想,他会变成你的言语；\n",
      "注意你的言语,他会变成你的行动；\n",
      "注意你的行动,他会变成你的习惯；\n",
      "注意你的习惯,他会变成你的性格；\n",
      "注意你的性格,他会变成你的命运\n",
      "\n"
     ]
    }
   ],
   "source": [
    "print(\"\"\"\n",
    "注意你的{},他会变成你的{}；\n",
    "注意你的{},他会变成你的{}；\n",
    "注意你的{},他会变成你的{}；\n",
    "注意你的{},他会变成你的{}；\n",
    "注意你的{},他会变成你的{}\n",
    "\"\"\".format(\"思想\",\"言语\",\"言语\",\"行动\",\"行动\",\"习惯\",\"习惯\",\"性格\",\"性格\",\"命运\"))"
   ]
  },
  {
   "cell_type": "code",
   "execution_count": 9,
   "id": "6d1e4ebb",
   "metadata": {
    "ExecuteTime": {
     "end_time": "2022-04-15T09:32:14.941933Z",
     "start_time": "2022-04-15T09:32:14.925934Z"
    },
    "scrolled": true
   },
   "outputs": [
    {
     "name": "stdout",
     "output_type": "stream",
     "text": [
      "3.14\n",
      "3\n",
      "-3.14\n",
      "25.00%\n",
      "0000000100\n",
      "1,234,567,890\n",
      "10_000_000,0x98_9680\n",
      "Rectangle of 8*6\n",
      "Area:48\n",
      "    33.33%\n",
      "5,555,555 in hex is: 0x54c563, in oct is 0o25142543\n",
      "66666 in hex is: 0x1046a, 6666 in oct is 15012\n"
     ]
    }
   ],
   "source": [
    "print('{:.2f}'.format(3.1415926)) #保留两位小数\n",
    "print('{:.0f}'.format(3.1415926)) #不保留\n",
    "print('{:+.2f}'.format(-3.1415926)) #不管是不是正号负号，都在前面加上“+”\n",
    "print('{:.2%}'.format(0.25)) #保留百分号位\n",
    "print('{:0>10d}'.format(100)) #用0填充补齐的位置 (右对齐)\n",
    "print('{:,}'.format(1234567890)) #冒号后边加逗号,形成千位分隔符\n",
    "print('{0:_},{0:#_x}'.format(10000000))# _表示在数字中插入下画线作为千分符\n",
    "# 字符串前面加字符f，Python 3.6之后的版本支持这种用法\n",
    "width = 8\n",
    "height = 6\n",
    "print(f'Rectangle of {width}*{height}\\nArea:{width*height}')\n",
    "# 格式化为百分数字符串，总宽度为10，保留2位小数，>表示右对齐\n",
    "print('{0:>10.2%}'.format(1/3))\n",
    "# 逗号表示在数字字符串中插入逗号作为千分符，#x表示格式化为十六进制数\n",
    "print(\"{0:,} in hex is: {0:#x}, in oct is {0:#o}\".format(5555555))\n",
    "# 可以先格式化下标为1的参数，再格式化下标为0的参数\n",
    "# o表示八进制数，\n",
    "'''但不带前面的引导符'0o'''             \n",
    "print(\"{1} in hex is: {1:#x}, {0} in oct is {0:o}\".format(6666, 66666))"
   ]
  },
  {
   "cell_type": "markdown",
   "id": "742217cc",
   "metadata": {},
   "source": [
    "## encode()"
   ]
  },
  {
   "cell_type": "code",
   "execution_count": 10,
   "id": "56679dc0",
   "metadata": {
    "ExecuteTime": {
     "end_time": "2022-04-16T15:49:00.740177Z",
     "start_time": "2022-04-16T15:48:59.578913Z"
    }
   },
   "outputs": [
    {
     "name": "stdout",
     "output_type": "stream",
     "text": [
      "b'\\xe3\\x80\\x8aPython\\xe5\\x8f\\xaf\\xe4\\xbb\\xa5\\xe8\\xbf\\x99\\xe6\\xa0\\xb7\\xe5\\xad\\xa6\\xe3\\x80\\x8b'\n",
      "b'\\xa1\\xb6Python\\xbf\\xc9\\xd2\\xd4\\xd5\\xe2\\xd1\\xf9\\xd1\\xa7\\xa1\\xb7'\n",
      "《Python可以这样学》\n"
     ]
    }
   ],
   "source": [
    "bookName = '《Python可以这样学》'\n",
    "print(bookName.encode())\n",
    "print(bookName.encode('gbk'))\n",
    "print(bookName.encode('gbk').decode('gbk'))"
   ]
  },
  {
   "cell_type": "markdown",
   "id": "9dc46694",
   "metadata": {},
   "source": [
    "## index()、rindex()、count()"
   ]
  },
  {
   "cell_type": "code",
   "execution_count": 11,
   "id": "a8364155",
   "metadata": {
    "ExecuteTime": {
     "end_time": "2022-04-16T15:49:09.575950Z",
     "start_time": "2022-04-16T15:49:09.560330Z"
    }
   },
   "outputs": [
    {
     "name": "stdout",
     "output_type": "stream",
     "text": [
      "6\n",
      "8\n",
      "4\n"
     ]
    }
   ],
   "source": [
    "text = '处处飞花飞处处；声声笑语笑声声。'\n",
    "print(text.rindex('处'))\n",
    "\n",
    "\n",
    "print(text.index('声'))\n",
    "print(text.count('处'))"
   ]
  },
  {
   "cell_type": "markdown",
   "id": "087b4152",
   "metadata": {},
   "source": [
    "### maketrans()、translate()"
   ]
  },
  {
   "cell_type": "code",
   "execution_count": 12,
   "id": "3c66b1b9",
   "metadata": {},
   "outputs": [
    {
     "name": "stdout",
     "output_type": "stream",
     "text": [
      "Tel:三零陆四柒三伍玖\n"
     ]
    }
   ],
   "source": [
    "table = ''.maketrans('0123456789', '零一二三四伍陆柒捌玖')\n",
    "print('Tel:30647359'.translate(table))"
   ]
  },
  {
   "cell_type": "markdown",
   "id": "979c375e",
   "metadata": {},
   "source": [
    "### ljust()、rjust()、center()"
   ]
  },
  {
   "cell_type": "code",
   "execution_count": 13,
   "id": "947a87f6",
   "metadata": {},
   "outputs": [
    {
     "name": "stdout",
     "output_type": "stream",
     "text": [
      "居左                  结束\n",
      "##################居右\n",
      "=========居中=========\n"
     ]
    }
   ],
   "source": [
    "print('居左'.ljust(20)+'结束')\n",
    "print('居右'.rjust(20, '#'))        # 左侧使用井号填充\n",
    "print('居中'.center(20, '='))       # 两侧使用等号填充"
   ]
  },
  {
   "cell_type": "markdown",
   "id": "4dee1016",
   "metadata": {},
   "source": [
    "### f-string格式化字符串"
   ]
  },
  {
   "cell_type": "code",
   "execution_count": 16,
   "id": "c189016d",
   "metadata": {
    "ExecuteTime": {
     "end_time": "2022-04-09T18:07:31.541215Z",
     "start_time": "2022-04-09T18:07:31.527213Z"
    }
   },
   "outputs": [
    {
     "name": "stdout",
     "output_type": "stream",
     "text": [
      "年龄：20，性别：男\n"
     ]
    }
   ],
   "source": [
    "age = 20\n",
    "gender = '男'\n",
    "print(f'年龄：{age}，性别：{gender}')"
   ]
  },
  {
   "cell_type": "markdown",
   "id": "d0c42f8d",
   "metadata": {},
   "source": [
    "### split()、rsplit()、join()"
   ]
  },
  {
   "cell_type": "code",
   "execution_count": 14,
   "id": "fba567f7",
   "metadata": {},
   "outputs": [
    {
     "name": "stdout",
     "output_type": "stream",
     "text": [
      "['Beautiful', 'is', 'better', 'than', 'ugly.']\n",
      "['Beautiful', 'is better than ugly.']\n",
      "['Beautiful is better', 'than', 'ugly.']\n",
      "['1', '2', '3', '4']\n",
      "1,2,3,4\n",
      "1:2:3:4\n",
      "1234\n"
     ]
    }
   ],
   "source": [
    "text = 'Beautiful is better than ugly.'\n",
    "print(text.split())                     # 使用空白字符进行分隔\n",
    "print(text.split(maxsplit=1))           # 最多分隔一次\n",
    "print(text.rsplit(maxsplit=2))          # 最多分隔两次\n",
    "print('1,2,3,4'.split(','))             # 使用逗号作为分隔符\n",
    "print(','.join(['1', '2', '3', '4']))   # 使用逗号作为连接符\n",
    "print(':'.join(map(str, range(1, 5))))  # 使用冒号作为连接符\n",
    "print(''.join(map(str, range(1, 5))))   # 直接连接，不插入任何连接符"
   ]
  },
  {
   "cell_type": "markdown",
   "id": "3a13a141",
   "metadata": {},
   "source": [
    "### lower()、upper()、capitalize()、title()、swapcase()"
   ]
  },
  {
   "cell_type": "code",
   "execution_count": 15,
   "id": "23c2eb16",
   "metadata": {},
   "outputs": [
    {
     "name": "stdout",
     "output_type": "stream",
     "text": [
      "explicit is better than implicit.\n",
      "EXPLICIT IS BETTER THAN IMPLICIT.\n",
      "Explicit is better than implicit.\n",
      "Explicit Is Better Than Implicit.\n",
      "eXPLICIT IS BETTER THAN IMPLICIT.\n"
     ]
    }
   ],
   "source": [
    "text = 'Explicit is better than implicit.'\n",
    "print(text.lower())\n",
    "print(text.upper())\n",
    "print(text.capitalize())\n",
    "print(text.title())\n",
    "print(text.swapcase())"
   ]
  },
  {
   "cell_type": "markdown",
   "id": "1cae3926",
   "metadata": {},
   "source": [
    "### startswith()、endswith()"
   ]
  },
  {
   "cell_type": "code",
   "execution_count": 20,
   "id": "ebd3eaea",
   "metadata": {},
   "outputs": [
    {
     "name": "stdout",
     "output_type": "stream",
     "text": [
      "False\n",
      "True\n",
      "True\n",
      "False\n"
     ]
    }
   ],
   "source": [
    "text = 'Simple is better than complex.'\n",
    "print(text.startswith('simple'))\n",
    "print(text.startswith('Simple'))\n",
    "print(text.endswith(('.', '!', '?')))\n",
    "text = 'Simple is better than complex！'\n",
    "print(text.endswith(('.', '!', '?')))"
   ]
  },
  {
   "cell_type": "markdown",
   "id": "11c66377",
   "metadata": {},
   "source": [
    "### strip()、rstrip()、lstrip()"
   ]
  },
  {
   "cell_type": "code",
   "execution_count": 21,
   "id": "dfb08134",
   "metadata": {},
   "outputs": [
    {
     "name": "stdout",
     "output_type": "stream",
     "text": [
      "======test===#####\n",
      "test\n"
     ]
    }
   ],
   "source": [
    "text = '   ======test===#####   '\n",
    "print(text.strip())          # 删除两侧的空白字符\n",
    "print(text.strip('=# '))     # 删除两侧的=、#和空格\n"
   ]
  },
  {
   "cell_type": "markdown",
   "id": "625cc5e0",
   "metadata": {},
   "source": [
    "## 多个类型转化（拓展）\n",
    "举例项目中（数据分析）的量钢化处"
   ]
  },
  {
   "cell_type": "code",
   "execution_count": 16,
   "id": "91c7333f",
   "metadata": {
    "ExecuteTime": {
     "end_time": "2022-04-08T05:22:56.199937Z",
     "start_time": "2022-04-08T05:22:54.299358Z"
    }
   },
   "outputs": [],
   "source": [
    "import numpy as np\n",
    "import pandas as pd\n",
    "import matplotlib.pyplot as plt\n",
    "import seaborn as sns\n",
    "plt.rcParams['font.sans-serif'] = ['SimHei'] # 中文显示\n",
    "plt.rcParams['axes.unicode_minus'] = False"
   ]
  },
  {
   "cell_type": "code",
   "execution_count": 18,
   "id": "4deb6d8f",
   "metadata": {
    "ExecuteTime": {
     "end_time": "2022-04-08T05:24:37.201740Z",
     "start_time": "2022-04-08T05:24:37.173727Z"
    }
   },
   "outputs": [
    {
     "data": {
      "text/html": [
       "<div>\n",
       "<style scoped>\n",
       "    .dataframe tbody tr th:only-of-type {\n",
       "        vertical-align: middle;\n",
       "    }\n",
       "\n",
       "    .dataframe tbody tr th {\n",
       "        vertical-align: top;\n",
       "    }\n",
       "\n",
       "    .dataframe thead th {\n",
       "        text-align: right;\n",
       "    }\n",
       "</style>\n",
       "<table border=\"1\" class=\"dataframe\">\n",
       "  <thead>\n",
       "    <tr style=\"text-align: right;\">\n",
       "      <th></th>\n",
       "      <th>age</th>\n",
       "      <th>sex</th>\n",
       "      <th>bmi</th>\n",
       "      <th>children</th>\n",
       "      <th>smoker</th>\n",
       "      <th>region</th>\n",
       "      <th>charges</th>\n",
       "    </tr>\n",
       "  </thead>\n",
       "  <tbody>\n",
       "    <tr>\n",
       "      <th>0</th>\n",
       "      <td>19</td>\n",
       "      <td>female</td>\n",
       "      <td>27.900</td>\n",
       "      <td>0</td>\n",
       "      <td>yes</td>\n",
       "      <td>southwest</td>\n",
       "      <td>16884.92400</td>\n",
       "    </tr>\n",
       "    <tr>\n",
       "      <th>1</th>\n",
       "      <td>18</td>\n",
       "      <td>male</td>\n",
       "      <td>33.770</td>\n",
       "      <td>1</td>\n",
       "      <td>no</td>\n",
       "      <td>southeast</td>\n",
       "      <td>1725.55230</td>\n",
       "    </tr>\n",
       "    <tr>\n",
       "      <th>2</th>\n",
       "      <td>28</td>\n",
       "      <td>male</td>\n",
       "      <td>33.000</td>\n",
       "      <td>3</td>\n",
       "      <td>no</td>\n",
       "      <td>southeast</td>\n",
       "      <td>4449.46200</td>\n",
       "    </tr>\n",
       "    <tr>\n",
       "      <th>3</th>\n",
       "      <td>33</td>\n",
       "      <td>male</td>\n",
       "      <td>22.705</td>\n",
       "      <td>0</td>\n",
       "      <td>no</td>\n",
       "      <td>northwest</td>\n",
       "      <td>21984.47061</td>\n",
       "    </tr>\n",
       "    <tr>\n",
       "      <th>4</th>\n",
       "      <td>32</td>\n",
       "      <td>male</td>\n",
       "      <td>28.880</td>\n",
       "      <td>0</td>\n",
       "      <td>no</td>\n",
       "      <td>northwest</td>\n",
       "      <td>3866.85520</td>\n",
       "    </tr>\n",
       "    <tr>\n",
       "      <th>...</th>\n",
       "      <td>...</td>\n",
       "      <td>...</td>\n",
       "      <td>...</td>\n",
       "      <td>...</td>\n",
       "      <td>...</td>\n",
       "      <td>...</td>\n",
       "      <td>...</td>\n",
       "    </tr>\n",
       "    <tr>\n",
       "      <th>1333</th>\n",
       "      <td>50</td>\n",
       "      <td>male</td>\n",
       "      <td>30.970</td>\n",
       "      <td>3</td>\n",
       "      <td>no</td>\n",
       "      <td>northwest</td>\n",
       "      <td>10600.54830</td>\n",
       "    </tr>\n",
       "    <tr>\n",
       "      <th>1334</th>\n",
       "      <td>18</td>\n",
       "      <td>female</td>\n",
       "      <td>31.920</td>\n",
       "      <td>0</td>\n",
       "      <td>no</td>\n",
       "      <td>northeast</td>\n",
       "      <td>2205.98080</td>\n",
       "    </tr>\n",
       "    <tr>\n",
       "      <th>1335</th>\n",
       "      <td>18</td>\n",
       "      <td>female</td>\n",
       "      <td>36.850</td>\n",
       "      <td>0</td>\n",
       "      <td>no</td>\n",
       "      <td>southeast</td>\n",
       "      <td>1629.83350</td>\n",
       "    </tr>\n",
       "    <tr>\n",
       "      <th>1336</th>\n",
       "      <td>21</td>\n",
       "      <td>female</td>\n",
       "      <td>25.800</td>\n",
       "      <td>0</td>\n",
       "      <td>no</td>\n",
       "      <td>southwest</td>\n",
       "      <td>2007.94500</td>\n",
       "    </tr>\n",
       "    <tr>\n",
       "      <th>1337</th>\n",
       "      <td>61</td>\n",
       "      <td>female</td>\n",
       "      <td>29.070</td>\n",
       "      <td>0</td>\n",
       "      <td>yes</td>\n",
       "      <td>northwest</td>\n",
       "      <td>29141.36030</td>\n",
       "    </tr>\n",
       "  </tbody>\n",
       "</table>\n",
       "<p>1338 rows × 7 columns</p>\n",
       "</div>"
      ],
      "text/plain": [
       "      age     sex     bmi  children smoker     region      charges\n",
       "0      19  female  27.900         0    yes  southwest  16884.92400\n",
       "1      18    male  33.770         1     no  southeast   1725.55230\n",
       "2      28    male  33.000         3     no  southeast   4449.46200\n",
       "3      33    male  22.705         0     no  northwest  21984.47061\n",
       "4      32    male  28.880         0     no  northwest   3866.85520\n",
       "...   ...     ...     ...       ...    ...        ...          ...\n",
       "1333   50    male  30.970         3     no  northwest  10600.54830\n",
       "1334   18  female  31.920         0     no  northeast   2205.98080\n",
       "1335   18  female  36.850         0     no  southeast   1629.83350\n",
       "1336   21  female  25.800         0     no  southwest   2007.94500\n",
       "1337   61  female  29.070         0    yes  northwest  29141.36030\n",
       "\n",
       "[1338 rows x 7 columns]"
      ]
     },
     "execution_count": 18,
     "metadata": {},
     "output_type": "execute_result"
    }
   ],
   "source": [
    "columns = ['age','sex','bmi','children','smoker','region','charges']\n",
    "df = pd.read_csv(\"insurance.csv\",names = columns)\n",
    "df\n"
   ]
  },
  {
   "cell_type": "code",
   "execution_count": 20,
   "id": "ea30ebbc",
   "metadata": {
    "ExecuteTime": {
     "end_time": "2022-04-08T05:24:52.409807Z",
     "start_time": "2022-04-08T05:24:52.371786Z"
    }
   },
   "outputs": [
    {
     "data": {
      "text/html": [
       "<div>\n",
       "<style scoped>\n",
       "    .dataframe tbody tr th:only-of-type {\n",
       "        vertical-align: middle;\n",
       "    }\n",
       "\n",
       "    .dataframe tbody tr th {\n",
       "        vertical-align: top;\n",
       "    }\n",
       "\n",
       "    .dataframe thead th {\n",
       "        text-align: right;\n",
       "    }\n",
       "</style>\n",
       "<table border=\"1\" class=\"dataframe\">\n",
       "  <thead>\n",
       "    <tr style=\"text-align: right;\">\n",
       "      <th></th>\n",
       "      <th>age</th>\n",
       "      <th>sex</th>\n",
       "      <th>bmi</th>\n",
       "      <th>children</th>\n",
       "      <th>smoker</th>\n",
       "      <th>region</th>\n",
       "      <th>charges</th>\n",
       "    </tr>\n",
       "  </thead>\n",
       "  <tbody>\n",
       "    <tr>\n",
       "      <th>0</th>\n",
       "      <td>19</td>\n",
       "      <td>0</td>\n",
       "      <td>27.900</td>\n",
       "      <td>0</td>\n",
       "      <td>1</td>\n",
       "      <td>3</td>\n",
       "      <td>16884.92400</td>\n",
       "    </tr>\n",
       "    <tr>\n",
       "      <th>1</th>\n",
       "      <td>18</td>\n",
       "      <td>1</td>\n",
       "      <td>33.770</td>\n",
       "      <td>1</td>\n",
       "      <td>0</td>\n",
       "      <td>4</td>\n",
       "      <td>1725.55230</td>\n",
       "    </tr>\n",
       "    <tr>\n",
       "      <th>2</th>\n",
       "      <td>28</td>\n",
       "      <td>1</td>\n",
       "      <td>33.000</td>\n",
       "      <td>3</td>\n",
       "      <td>0</td>\n",
       "      <td>4</td>\n",
       "      <td>4449.46200</td>\n",
       "    </tr>\n",
       "    <tr>\n",
       "      <th>3</th>\n",
       "      <td>33</td>\n",
       "      <td>1</td>\n",
       "      <td>22.705</td>\n",
       "      <td>0</td>\n",
       "      <td>0</td>\n",
       "      <td>1</td>\n",
       "      <td>21984.47061</td>\n",
       "    </tr>\n",
       "    <tr>\n",
       "      <th>4</th>\n",
       "      <td>32</td>\n",
       "      <td>1</td>\n",
       "      <td>28.880</td>\n",
       "      <td>0</td>\n",
       "      <td>0</td>\n",
       "      <td>1</td>\n",
       "      <td>3866.85520</td>\n",
       "    </tr>\n",
       "    <tr>\n",
       "      <th>...</th>\n",
       "      <td>...</td>\n",
       "      <td>...</td>\n",
       "      <td>...</td>\n",
       "      <td>...</td>\n",
       "      <td>...</td>\n",
       "      <td>...</td>\n",
       "      <td>...</td>\n",
       "    </tr>\n",
       "    <tr>\n",
       "      <th>1333</th>\n",
       "      <td>50</td>\n",
       "      <td>1</td>\n",
       "      <td>30.970</td>\n",
       "      <td>3</td>\n",
       "      <td>0</td>\n",
       "      <td>1</td>\n",
       "      <td>10600.54830</td>\n",
       "    </tr>\n",
       "    <tr>\n",
       "      <th>1334</th>\n",
       "      <td>18</td>\n",
       "      <td>0</td>\n",
       "      <td>31.920</td>\n",
       "      <td>0</td>\n",
       "      <td>0</td>\n",
       "      <td>2</td>\n",
       "      <td>2205.98080</td>\n",
       "    </tr>\n",
       "    <tr>\n",
       "      <th>1335</th>\n",
       "      <td>18</td>\n",
       "      <td>0</td>\n",
       "      <td>36.850</td>\n",
       "      <td>0</td>\n",
       "      <td>0</td>\n",
       "      <td>4</td>\n",
       "      <td>1629.83350</td>\n",
       "    </tr>\n",
       "    <tr>\n",
       "      <th>1336</th>\n",
       "      <td>21</td>\n",
       "      <td>0</td>\n",
       "      <td>25.800</td>\n",
       "      <td>0</td>\n",
       "      <td>0</td>\n",
       "      <td>3</td>\n",
       "      <td>2007.94500</td>\n",
       "    </tr>\n",
       "    <tr>\n",
       "      <th>1337</th>\n",
       "      <td>61</td>\n",
       "      <td>0</td>\n",
       "      <td>29.070</td>\n",
       "      <td>0</td>\n",
       "      <td>1</td>\n",
       "      <td>1</td>\n",
       "      <td>29141.36030</td>\n",
       "    </tr>\n",
       "  </tbody>\n",
       "</table>\n",
       "<p>1338 rows × 7 columns</p>\n",
       "</div>"
      ],
      "text/plain": [
       "      age  sex     bmi  children  smoker  region      charges\n",
       "0      19    0  27.900         0       1       3  16884.92400\n",
       "1      18    1  33.770         1       0       4   1725.55230\n",
       "2      28    1  33.000         3       0       4   4449.46200\n",
       "3      33    1  22.705         0       0       1  21984.47061\n",
       "4      32    1  28.880         0       0       1   3866.85520\n",
       "...   ...  ...     ...       ...     ...     ...          ...\n",
       "1333   50    1  30.970         3       0       1  10600.54830\n",
       "1334   18    0  31.920         0       0       2   2205.98080\n",
       "1335   18    0  36.850         0       0       4   1629.83350\n",
       "1336   21    0  25.800         0       0       3   2007.94500\n",
       "1337   61    0  29.070         0       1       1  29141.36030\n",
       "\n",
       "[1338 rows x 7 columns]"
      ]
     },
     "execution_count": 20,
     "metadata": {},
     "output_type": "execute_result"
    }
   ],
   "source": [
    "#处理sex分类：女性为0，男性为1\n",
    "df1 = df.replace(['female','male'],[0,1])\n",
    "#处理region分类：northwest = 0, northeast = 1, southwest = 2, southeast = 3\n",
    "df2 = df1.replace(['northwest','northeast','southwest','southeast'],[1, 2, 3, 4])\n",
    "#处理smoker分类：yes = 1,no = 0\n",
    "df3 = df2.replace(['no','yes'],[0,1])\n",
    "df3\n",
    "#保险项目举例"
   ]
  },
  {
   "attachments": {
    "image.png": {
     "image/png": "[encoded data removed]"
    }
   },
   "cell_type": "markdown",
   "id": "63022dae",
   "metadata": {},
   "source": [
    "### 可变类型：在id(内存地址)不变的情况下，value（值）可以变，则称为可变类型\n",
    "不可变类型：value(值)一旦改变，id（内存地址）也改变，则称为不可变类型（id变，意味着创建了新的内存空间）\n",
    "![image.png](attachment:image.png)"
   ]
  },
  {
   "cell_type": "code",
   "execution_count": null,
   "id": "2055611c",
   "metadata": {},
   "outputs": [],
   "source": []
  }
 ],
 "metadata": {
  "kernelspec": {
   "display_name": "Python 3 (ipykernel)",
   "language": "python",
   "name": "python3"
  },
  "language_info": {
   "codemirror_mode": {
    "name": "ipython",
    "version": 3
   },
   "file_extension": ".py",
   "mimetype": "text/x-python",
   "name": "python",
   "nbconvert_exporter": "python",
   "pygments_lexer": "ipython3",
   "version": "3.9.7"
  },
  "toc": {
   "base_numbering": 1,
   "nav_menu": {},
   "number_sections": true,
   "sideBar": true,
   "skip_h1_title": false,
   "title_cell": "Table of Contents",
   "title_sidebar": "Contents",
   "toc_cell": false,
   "toc_position": {},
   "toc_section_display": true,
   "toc_window_display": false
  },
  "varInspector": {
   "cols": {
    "lenName": 16,
    "lenType": 16,
    "lenVar": 40
   },
   "kernels_config": {
    "python": {
     "delete_cmd_postfix": "",
     "delete_cmd_prefix": "del ",
     "library": "var_list.py",
     "varRefreshCmd": "print(var_dic_list())"
    },
    "r": {
     "delete_cmd_postfix": ") ",
     "delete_cmd_prefix": "rm(",
     "library": "var_list.r",
     "varRefreshCmd": "cat(var_dic_list()) "
    }
   },
   "types_to_exclude": [
    "module",
    "function",
    "builtin_function_or_method",
    "instance",
    "_Feature"
   ],
   "window_display": false
  }
 },
 "nbformat": 4,
 "nbformat_minor": 5
}
