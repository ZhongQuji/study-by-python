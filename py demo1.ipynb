{
 "cells": [
  {
   "cell_type": "markdown",
   "id": "d17d930c",
   "metadata": {},
   "source": [
    "# 视频学习主要来源于：\n",
    "https://www.bilibili.com/video/BV1wD4y1o"
   ]
  },
  {
   "cell_type": "markdown",
   "id": "d415b053",
   "metadata": {},
   "source": [
    "# 参考是书籍Python数据分析、挖掘与可视化（微课版）《Python快速编程入门（第2版）》\n",
    "https://book.douban.com/subject/34925699/\n",
    "https://baike.baidu.com/item/Python%E5%BF%AB%E9%80%9F%E7%BC%96%E7%A8%8B%E5%85%A5%E9%97%A8%EF%BC%88%E7%AC%AC2%E7%89%88%EF%BC%89/56563684?fr=aladdin"
   ]
  },
  {
   "cell_type": "markdown",
   "id": "028ed7ff",
   "metadata": {},
   "source": [
    "# jupyter使用技巧\n",
    "https://blog.csdn.net/hitchenghengchao/article/details/103034069?spm=1001.2101.3001.6650.1&utm_medium=distribute.pc_relevant.none-task-blog-2%7Edefault%7ECTRLIST%7Edefault-1.no_search_link&depth_1-utm_source=distribute.pc_relevant.none-task-blog-2%7Edefault%7ECTRLIST%7Edefault-1.no_search_link&utm_relevant_index=2"
   ]
  },
  {
   "cell_type": "markdown",
   "id": "38c0691c",
   "metadata": {},
   "source": [
    "# 预备"
   ]
  },
  {
   "cell_type": "markdown",
   "id": "2f55b42c",
   "metadata": {},
   "source": [
    "## 画五角星"
   ]
  },
  {
   "cell_type": "code",
   "execution_count": 5,
   "id": "2278716c",
   "metadata": {
    "ExecuteTime": {
     "end_time": "2022-04-08T05:07:30.043424Z",
     "start_time": "2022-04-08T05:07:26.277373Z"
    }
   },
   "outputs": [],
   "source": [
    "\n",
    "import turtle\n",
    "for i in range(5):\n",
    "    turtle.forward(200)\n",
    "    turtle.right(144)"
   ]
  },
  {
   "cell_type": "markdown",
   "id": "6bf0ac52",
   "metadata": {},
   "source": [
    "## (%notebook)恢复已删除的代码 前提是运行过¶\n"
   ]
  },
  {
   "cell_type": "code",
   "execution_count": 6,
   "id": "1f5783b7",
   "metadata": {
    "ExecuteTime": {
     "end_time": "2022-04-08T05:07:30.074197Z",
     "start_time": "2022-04-08T05:07:30.068265Z"
    }
   },
   "outputs": [
    {
     "name": "stdout",
     "output_type": "stream",
     "text": [
      "history\n",
      "history\n",
      "history\n",
      "history\n",
      "\n",
      "import turtle\n",
      "for i in range(5):\n",
      "    turtle.forward(200)\n",
      "    turtle.right(144)\n",
      "history\n"
     ]
    }
   ],
   "source": [
    "history"
   ]
  },
  {
   "cell_type": "markdown",
   "id": "e412e1f6",
   "metadata": {},
   "source": [
    "## 二进制与字符编码"
   ]
  },
  {
   "cell_type": "code",
   "execution_count": 7,
   "id": "d6bbe65f",
   "metadata": {
    "ExecuteTime": {
     "end_time": "2022-04-08T05:09:39.616332Z",
     "start_time": "2022-04-08T05:09:39.610322Z"
    }
   },
   "outputs": [
    {
     "name": "stdout",
     "output_type": "stream",
     "text": [
      "乘\n",
      "20056\n"
     ]
    }
   ],
   "source": [
    "print(chr(0b100111001011000))\n",
    "print(ord('乘'))"
   ]
  },
  {
   "cell_type": "markdown",
   "id": "869a7dc7",
   "metadata": {},
   "source": [
    "## keyword保留字"
   ]
  },
  {
   "cell_type": "code",
   "execution_count": 8,
   "id": "f7152e0e",
   "metadata": {
    "ExecuteTime": {
     "end_time": "2022-04-08T05:09:57.680108Z",
     "start_time": "2022-04-08T05:09:57.666106Z"
    }
   },
   "outputs": [
    {
     "name": "stdout",
     "output_type": "stream",
     "text": [
      "['False', 'None', 'True', 'and', 'as', 'assert', 'async', 'await', 'break', 'class', 'continue', 'def', 'del', 'elif', 'else', 'except', 'finally', 'for', 'from', 'global', 'if', 'import', 'in', 'is', 'lambda', 'nonlocal', 'not', 'or', 'pass', 'raise', 'return', 'try', 'while', 'with', 'yield']\n"
     ]
    }
   ],
   "source": [
    "import keyword\n",
    "print(keyword.kwlist)"
   ]
  },
  {
   "cell_type": "markdown",
   "id": "2837e438",
   "metadata": {},
   "source": [
    "# input()函数---类似C语言scanf函数\n",
    "input输入数据等"
   ]
  },
  {
   "cell_type": "code",
   "execution_count": 1,
   "id": "9b80f757",
   "metadata": {
    "ExecuteTime": {
     "end_time": "2022-04-09T17:36:44.305497Z",
     "start_time": "2022-04-09T17:36:36.732802Z"
    }
   },
   "outputs": [
    {
     "name": "stdout",
     "output_type": "stream",
     "text": [
      "大圣何在?花果山水帘洞\n",
      "花果山水帘洞 <class 'str'>\n"
     ]
    }
   ],
   "source": [
    "present = input('大圣何在?')\n",
    "print(present,type(present))"
   ]
  },
  {
   "cell_type": "code",
   "execution_count": 2,
   "id": "590f431b",
   "metadata": {
    "ExecuteTime": {
     "end_time": "2022-04-09T17:37:52.914659Z",
     "start_time": "2022-04-09T17:37:52.899655Z"
    }
   },
   "outputs": [
    {
     "name": "stdout",
     "output_type": "stream",
     "text": [
      "通用名称 :阿莫西林胶囊\n",
      "英文名称 :Amoxicillin Capsules\n",
      "性状 :本品内容物为白色至黄色粉末或颗粒\n"
     ]
    }
   ],
   "source": [
    "zh_name = \"通用名称 :阿莫西林胶囊\"\n",
    "en_name = \"英文名称 :Amoxicillin Capsules\" \n",
    "character = \"性状 :本品内容物为白色至黄色粉末或颗粒\" \n",
    "print(zh_name, en_name, character, sep='\\n')\n",
    "#sepPython中sep不是函数，它是print函数的一个参数，用来定义输出数据之间的间隔符号。"
   ]
  },
  {
   "cell_type": "markdown",
   "id": "e5016dfa",
   "metadata": {},
   "source": [
    "## sep参数"
   ]
  },
  {
   "cell_type": "code",
   "execution_count": null,
   "id": "69eca4f4",
   "metadata": {},
   "outputs": [],
   "source": [
    "全称为Separate意为 分开 隔开\n",
    "用于print两个元素时自定义间隔符(默认为两个空格)\n",
    "关键字参数sep是实现分隔符，比如多个参数输出时想要输出中间的分隔字符"
   ]
  },
  {
   "cell_type": "code",
   "execution_count": 8,
   "id": "1158734c",
   "metadata": {
    "ExecuteTime": {
     "end_time": "2022-04-09T17:46:05.343992Z",
     "start_time": "2022-04-09T17:46:05.331999Z"
    }
   },
   "outputs": [
    {
     "name": "stdout",
     "output_type": "stream",
     "text": [
      "abc bcd fff\n",
      " poi\n",
      "-------------\n",
      "abcbcdfff\n",
      "poi\n",
      "-------------\n",
      "abc bcd fff\n",
      " poi\n",
      "-------------\n"
     ]
    }
   ],
   "source": [
    "print(\"abc\",\"bcd\",\"fff\\n\",\"poi\")\n",
    "print(\"-------------\")\n",
    "print(\"abc\",\"bcd\",\"fff\\n\",\"poi\",sep='')\n",
    "print(\"-------------\")\n",
    "print(\"abc\",\"bcd\",\"fff\\n\",\"poi\",sep=' ')\n",
    "print(\"-------------\")"
   ]
  },
  {
   "cell_type": "code",
   "execution_count": 6,
   "id": "44ce3748",
   "metadata": {
    "ExecuteTime": {
     "end_time": "2022-04-09T17:44:32.921144Z",
     "start_time": "2022-04-09T17:44:32.913141Z"
    }
   },
   "outputs": [
    {
     "name": "stdout",
     "output_type": "stream",
     "text": [
      "1,2,3\r\n",
      "1 2 3\r\n"
     ]
    }
   ],
   "source": [
    "print(1, 2, 3, sep = ',', end = '\\r\\n')\n",
    "print(1, 2, 3, sep = ' ', end = '\\r\\n')"
   ]
  },
  {
   "cell_type": "markdown",
   "id": "168839f4",
   "metadata": {},
   "source": [
    "## end参数"
   ]
  },
  {
   "cell_type": "markdown",
   "id": "a5a76c15",
   "metadata": {},
   "source": [
    "python中“end=”是“print()”函数中的一个参数，会使该函数关闭“在输出中自动包含换行”的默认行为。print默认是打印一行，结尾加换行，end传递一个空字符串，表示这个语句没结束。\n",
    "为末尾end传递一个空字符串，这样print函数不会在字符串末尾添加一个换行符，而是添加一个空字符串，其实这也是一个语法要求，表示这个语句没结束。\n",
    "\n",
    "print默认是打印一行，结尾加换行。end=' '意思是末尾不换行，加空格。交互模式，效果如下："
   ]
  },
  {
   "cell_type": "code",
   "execution_count": 11,
   "id": "ff17225f",
   "metadata": {
    "ExecuteTime": {
     "end_time": "2022-04-09T17:55:48.632245Z",
     "start_time": "2022-04-09T17:55:48.624244Z"
    }
   },
   "outputs": [
    {
     "name": "stdout",
     "output_type": "stream",
     "text": [
      "a\n",
      "a aa1234"
     ]
    }
   ],
   "source": [
    "print('a')\n",
    "print('a',end=' ')  #end=' '表示不换行 但有  空格\n",
    "print('a',end='')\n",
    "print('a',end='1234') #结果是a+末尾的1234  但前面的a不换行 \n",
    "                      #所以结果和上的叠放在一起为aa1234"
   ]
  },
  {
   "cell_type": "code",
   "execution_count": 12,
   "id": "87d61931",
   "metadata": {
    "ExecuteTime": {
     "end_time": "2022-04-09T17:56:32.686140Z",
     "start_time": "2022-04-09T17:56:32.678123Z"
    }
   },
   "outputs": [
    {
     "name": "stdout",
     "output_type": "stream",
     "text": [
      "你好你叫什么名字?\n",
      "我叫张三\n",
      "你好，张三,我叫李四\n",
      "你尔好你叫什么名字?  我叫张三! 你好,张三,我叫李四 "
     ]
    }
   ],
   "source": [
    "print(\"你好你叫什么名字?\")\n",
    "print(\"我叫张三\")\n",
    "print(\"你好，张三,我叫李四\")\n",
    "print(\"你尔好你叫什么名字? \" ,end=\" \")\n",
    "print(\"我叫张三! \" , end=\"\")\n",
    "print(\"你好,张三,我叫李四\" , end=\" \")"
   ]
  },
  {
   "cell_type": "code",
   "execution_count": 14,
   "id": "78569b32",
   "metadata": {
    "ExecuteTime": {
     "end_time": "2022-04-09T17:56:57.968520Z",
     "start_time": "2022-04-09T17:56:57.949516Z"
    }
   },
   "outputs": [
    {
     "name": "stdout",
     "output_type": "stream",
     "text": [
      "1x1=1\t\n",
      "\n",
      "1x2=2\t2x2=4\t\n",
      "\n",
      "1x3=3\t2x3=6\t3x3=9\t\n",
      "\n",
      "1x4=4\t2x4=8\t3x4=12\t4x4=16\t\n",
      "\n",
      "1x5=5\t2x5=10\t3x5=15\t4x5=20\t5x5=25\t\n",
      "\n",
      "1x6=6\t2x6=12\t3x6=18\t4x6=24\t5x6=30\t6x6=36\t\n",
      "\n",
      "1x7=7\t2x7=14\t3x7=21\t4x7=28\t5x7=35\t6x7=42\t7x7=49\t\n",
      "\n",
      "1x8=8\t2x8=16\t3x8=24\t4x8=32\t5x8=40\t6x8=48\t7x8=56\t8x8=64\t\n",
      "\n",
      "1x9=9\t2x9=18\t3x9=27\t4x9=36\t5x9=45\t6x9=54\t7x9=63\t8x9=72\t9x9=81\t\n",
      "\n"
     ]
    }
   ],
   "source": [
    "for i in range(1, 10):\n",
    "    for j in range(1, i + 1):\n",
    "        print('{}x{}={}\\t'.format(j, i, i * j), end='' )\n",
    "    print('\\n')"
   ]
  },
  {
   "cell_type": "markdown",
   "id": "91104867",
   "metadata": {},
   "source": [
    "# print函数"
   ]
  },
  {
   "cell_type": "markdown",
   "id": "15353ad6",
   "metadata": {},
   "source": [
    "## 可以输出数字"
   ]
  },
  {
   "cell_type": "code",
   "execution_count": 1,
   "id": "10af8920",
   "metadata": {},
   "outputs": [
    {
     "name": "stdout",
     "output_type": "stream",
     "text": [
      "20\n"
     ]
    }
   ],
   "source": [
    "print(20)"
   ]
  },
  {
   "cell_type": "code",
   "execution_count": 2,
   "id": "31a87626",
   "metadata": {},
   "outputs": [
    {
     "ename": "NameError",
     "evalue": "name 'print20' is not defined",
     "output_type": "error",
     "traceback": [
      "\u001b[1;31m---------------------------------------------------------------------------\u001b[0m",
      "\u001b[1;31mNameError\u001b[0m                                 Traceback (most recent call last)",
      "\u001b[1;32m<ipython-input-2-d1210e5cb770>\u001b[0m in \u001b[0;36m<module>\u001b[1;34m\u001b[0m\n\u001b[1;32m----> 1\u001b[1;33m \u001b[0mprint20\u001b[0m  \u001b[1;31m#不能没括号\u001b[0m\u001b[1;33m\u001b[0m\u001b[1;33m\u001b[0m\u001b[0m\n\u001b[0m",
      "\u001b[1;31mNameError\u001b[0m: name 'print20' is not defined"
     ]
    }
   ],
   "source": [
    "print20  #不能没括号"
   ]
  },
  {
   "cell_type": "markdown",
   "id": "abf58a6f",
   "metadata": {},
   "source": [
    "## 可以输出字符串"
   ]
  },
  {
   "cell_type": "code",
   "execution_count": 3,
   "id": "9d85fc8f",
   "metadata": {},
   "outputs": [
    {
     "name": "stdout",
     "output_type": "stream",
     "text": [
      "hellowrold\n",
      "hellowrold\n"
     ]
    }
   ],
   "source": [
    "print('hellowrold')\n",
    "print(\"hellowrold\")#单双引号都可以"
   ]
  },
  {
   "cell_type": "code",
   "execution_count": 4,
   "id": "c5d4c5eb",
   "metadata": {},
   "outputs": [
    {
     "ename": "SyntaxError",
     "evalue": "invalid character in identifier (<ipython-input-4-117d7222f924>, line 1)",
     "output_type": "error",
     "traceback": [
      "\u001b[1;36m  File \u001b[1;32m\"<ipython-input-4-117d7222f924>\"\u001b[1;36m, line \u001b[1;32m1\u001b[0m\n\u001b[1;33m    print(‘hellowrold’)# 中文 '' 符号 不行\u001b[0m\n\u001b[1;37m                     ^\u001b[0m\n\u001b[1;31mSyntaxError\u001b[0m\u001b[1;31m:\u001b[0m invalid character in identifier\n"
     ]
    }
   ],
   "source": [
    "print(‘hellowrold’)# 中文 '' 符号 不行\n",
    "print(hellowrold)#字符串 不能没   ''"
   ]
  },
  {
   "cell_type": "markdown",
   "id": "370c971d",
   "metadata": {},
   "source": [
    "## 输出表达式"
   ]
  },
  {
   "cell_type": "code",
   "execution_count": 5,
   "id": "c9f9f6b2",
   "metadata": {},
   "outputs": [
    {
     "name": "stdout",
     "output_type": "stream",
     "text": [
      "3\n"
     ]
    }
   ],
   "source": [
    "print(1 + 2)"
   ]
  },
  {
   "cell_type": "markdown",
   "id": "90ae69ba",
   "metadata": {},
   "source": [
    "## 输出到文件\n",
    "#将数据输出文件中,注意点，1，所指定的盘符在存在，2.使用file= fp"
   ]
  },
  {
   "cell_type": "code",
   "execution_count": 6,
   "id": "a50d35db",
   "metadata": {},
   "outputs": [],
   "source": [
    "fp=open('D:/text.txt', 'a+') #如果文件不存在就创建，存在就在文件内容的后面继续追加|"
   ]
  },
  {
   "cell_type": "code",
   "execution_count": 7,
   "id": "9b6ea7a1",
   "metadata": {},
   "outputs": [
    {
     "data": {
      "text/plain": [
       "<function TextIOWrapper.close()>"
      ]
     },
     "execution_count": 7,
     "metadata": {},
     "output_type": "execute_result"
    }
   ],
   "source": [
    "fp = open('D:/text.text','a+')\n",
    "print('Hello world',file = fp)\n",
    "fp.close"
   ]
  },
  {
   "cell_type": "markdown",
   "id": "4402b58d",
   "metadata": {},
   "source": [
    "# 字符"
   ]
  },
  {
   "cell_type": "markdown",
   "id": "4b6942b3",
   "metadata": {},
   "source": [
    "## 转义字符\n",
    "什么是转义字符呢?·就是反斜杠+想要实现的转义功能首字母。"
   ]
  },
  {
   "cell_type": "code",
   "execution_count": 8,
   "id": "61001509",
   "metadata": {},
   "outputs": [
    {
     "name": "stdout",
     "output_type": "stream",
     "text": [
      "let's go\n",
      "老师说'大家好\n"
     ]
    }
   ],
   "source": [
    "#为什么要用转义字符\n",
    "print('let\\'s go')\n",
    "print('老师说\\'大家好')"
   ]
  },
  {
   "cell_type": "code",
   "execution_count": 9,
   "id": "45835119",
   "metadata": {},
   "outputs": [
    {
     "ename": "SyntaxError",
     "evalue": "invalid syntax (<ipython-input-9-72911c2488d6>, line 1)",
     "output_type": "error",
     "traceback": [
      "\u001b[1;36m  File \u001b[1;32m\"<ipython-input-9-72911c2488d6>\"\u001b[1;36m, line \u001b[1;32m1\u001b[0m\n\u001b[1;33m    print('let's go')\u001b[0m\n\u001b[1;37m               ^\u001b[0m\n\u001b[1;31mSyntaxError\u001b[0m\u001b[1;31m:\u001b[0m invalid syntax\n"
     ]
    }
   ],
   "source": [
    "print('let's go')"
   ]
  },
  {
   "cell_type": "code",
   "execution_count": 10,
   "id": "c93f1a15",
   "metadata": {},
   "outputs": [
    {
     "name": "stdout",
     "output_type": "stream",
     "text": [
      "转义字符；\n",
      "表示回车；\b表示退格\n"
     ]
    }
   ],
   "source": [
    "print('转义字符；\\n表示回车；\\b表示退格')"
   ]
  },
  {
   "cell_type": "code",
   "execution_count": 11,
   "id": "87bc333b",
   "metadata": {},
   "outputs": [
    {
     "name": "stdout",
     "output_type": "stream",
     "text": [
      "Hello\n",
      "world\n",
      "Hello\tworld\n",
      "Helloooo\tworld\n",
      "Hello\r",
      "world\n",
      "Hello\bworld\n",
      "http;\\www.baidu.com\n",
      "http;\\\\www.baidu.com\n",
      "http;\\\\www.baidu.com\n",
      "老师说;'大家好'\n"
     ]
    }
   ],
   "source": [
    "print('Hello\\nworld')#\\ +转义功能的首字母n-->newline的首字符表示换行\n",
    "print('Hello\\tworld')#  /t 四个位置\n",
    "print('Helloooo\\tworld')#\n",
    "print('Hello\\rworld')# /r 回车   world覆盖Hello\n",
    "print('Hello\\bworld')# 退一个格\n",
    "print('http;\\\\www.baidu.com')#  两个“\\”变成一个 \"\\\n",
    "print('http;\\\\\\www.baidu.com')\n",
    "print('http;\\\\\\\\www.baidu.com')\n",
    "print('老师说;\\'大家好\\'')"
   ]
  },
  {
   "cell_type": "markdown",
   "id": "14b0cee6",
   "metadata": {},
   "source": [
    "## 原字符\n",
    "#原字符，不希望字符串中的转义字符起作用，就使用原字符，就是在字符串之前加上r,或R"
   ]
  },
  {
   "cell_type": "code",
   "execution_count": 14,
   "id": "a7d8d4df",
   "metadata": {},
   "outputs": [
    {
     "name": "stdout",
     "output_type": "stream",
     "text": [
      "Hello\\nworld\n"
     ]
    }
   ],
   "source": [
    "print(r'Hello\\nworld')"
   ]
  },
  {
   "cell_type": "code",
   "execution_count": 15,
   "id": "7204537c",
   "metadata": {},
   "outputs": [
    {
     "name": "stdout",
     "output_type": "stream",
     "text": [
      "Hello\\nworld\\\\\n"
     ]
    }
   ],
   "source": [
    "print(r'Hello\\nworld\\\\')#但可以两"
   ]
  },
  {
   "cell_type": "markdown",
   "id": "2d4ac1db",
   "metadata": {},
   "source": [
    "# 缩进\n",
    "四个空格或者Tab键"
   ]
  },
  {
   "cell_type": "markdown",
   "id": "2f6ec269",
   "metadata": {},
   "source": [
    "if 和 else 平级，这样的做会错误"
   ]
  },
  {
   "cell_type": "code",
   "execution_count": 12,
   "id": "1cd7f854",
   "metadata": {},
   "outputs": [
    {
     "ename": "SyntaxError",
     "evalue": "invalid syntax (<ipython-input-12-c4e49f1f09c6>, line 3)",
     "output_type": "error",
     "traceback": [
      "\u001b[1;36m  File \u001b[1;32m\"<ipython-input-12-c4e49f1f09c6>\"\u001b[1;36m, line \u001b[1;32m3\u001b[0m\n\u001b[1;33m    else:\u001b[0m\n\u001b[1;37m    ^\u001b[0m\n\u001b[1;31mSyntaxError\u001b[0m\u001b[1;31m:\u001b[0m invalid syntax\n"
     ]
    }
   ],
   "source": [
    "if Ture:\n",
    "    print(\"Ture\")\n",
    "    else:\n",
    "        print('False')"
   ]
  },
  {
   "cell_type": "code",
   "execution_count": 13,
   "id": "d3b287a0",
   "metadata": {},
   "outputs": [
    {
     "ename": "NameError",
     "evalue": "name 'Ture' is not defined",
     "output_type": "error",
     "traceback": [
      "\u001b[1;31m---------------------------------------------------------------------------\u001b[0m",
      "\u001b[1;31mNameError\u001b[0m                                 Traceback (most recent call last)",
      "\u001b[1;32m<ipython-input-13-48ab98a21566>\u001b[0m in \u001b[0;36m<module>\u001b[1;34m\u001b[0m\n\u001b[0;32m      1\u001b[0m \u001b[1;31m#正确但没定义\u001b[0m\u001b[1;33m\u001b[0m\u001b[1;33m\u001b[0m\u001b[1;33m\u001b[0m\u001b[0m\n\u001b[1;32m----> 2\u001b[1;33m \u001b[1;32mif\u001b[0m \u001b[0mTure\u001b[0m\u001b[1;33m:\u001b[0m\u001b[1;33m\u001b[0m\u001b[1;33m\u001b[0m\u001b[0m\n\u001b[0m\u001b[0;32m      3\u001b[0m     \u001b[0mprint\u001b[0m\u001b[1;33m(\u001b[0m\u001b[1;34m'Ture'\u001b[0m\u001b[1;33m)\u001b[0m\u001b[1;33m\u001b[0m\u001b[1;33m\u001b[0m\u001b[0m\n\u001b[0;32m      4\u001b[0m \u001b[1;32melse\u001b[0m\u001b[1;33m:\u001b[0m\u001b[1;33m\u001b[0m\u001b[1;33m\u001b[0m\u001b[0m\n\u001b[0;32m      5\u001b[0m     \u001b[0mprint\u001b[0m\u001b[1;33m(\u001b[0m\u001b[1;34m'False'\u001b[0m\u001b[1;33m)\u001b[0m\u001b[1;33m\u001b[0m\u001b[1;33m\u001b[0m\u001b[0m\n",
      "\u001b[1;31mNameError\u001b[0m: name 'Ture' is not defined"
     ]
    }
   ],
   "source": [
    "#正确但没定义\n",
    "if Ture:\n",
    "    print('Ture')\n",
    "else:\n",
    "    print('False')"
   ]
  },
  {
   "cell_type": "code",
   "execution_count": null,
   "id": "58392564",
   "metadata": {},
   "outputs": [],
   "source": []
  },
  {
   "cell_type": "code",
   "execution_count": null,
   "id": "e2c4a796",
   "metadata": {},
   "outputs": [],
   "source": []
  }
 ],
 "metadata": {
  "kernelspec": {
   "display_name": "Python 3 (ipykernel)",
   "language": "python",
   "name": "python3"
  },
  "language_info": {
   "codemirror_mode": {
    "name": "ipython",
    "version": 3
   },
   "file_extension": ".py",
   "mimetype": "text/x-python",
   "name": "python",
   "nbconvert_exporter": "python",
   "pygments_lexer": "ipython3",
   "version": "3.9.12"
  },
  "toc": {
   "base_numbering": 1,
   "nav_menu": {},
   "number_sections": true,
   "sideBar": true,
   "skip_h1_title": false,
   "title_cell": "Table of Contents",
   "title_sidebar": "Contents",
   "toc_cell": false,
   "toc_position": {},
   "toc_section_display": true,
   "toc_window_display": false
  },
  "varInspector": {
   "cols": {
    "lenName": 16,
    "lenType": 16,
    "lenVar": 40
   },
   "kernels_config": {
    "python": {
     "delete_cmd_postfix": "",
     "delete_cmd_prefix": "del ",
     "library": "var_list.py",
     "varRefreshCmd": "print(var_dic_list())"
    },
    "r": {
     "delete_cmd_postfix": ") ",
     "delete_cmd_prefix": "rm(",
     "library": "var_list.r",
     "varRefreshCmd": "cat(var_dic_list()) "
    }
   },
   "types_to_exclude": [
    "module",
    "function",
    "builtin_function_or_method",
    "instance",
    "_Feature"
   ],
   "window_display": false
  }
 },
 "nbformat": 4,
 "nbformat_minor": 5
}
