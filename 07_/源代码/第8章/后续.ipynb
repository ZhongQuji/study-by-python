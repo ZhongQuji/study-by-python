{
 "cells": [
  {
   "cell_type": "code",
   "execution_count": null,
   "id": "de3595e7",
   "metadata": {},
   "outputs": [],
   "source": [
    "类、对象、封装、异常处理、本次未有提及的各种模块和库，及其对数据分析nunpy pandas seaborn 及"
   ]
  }
 ],
 "metadata": {
  "kernelspec": {
   "display_name": "Python 3 (ipykernel)",
   "language": "python",
   "name": "python3"
  },
  "language_info": {
   "codemirror_mode": {
    "name": "ipython",
    "version": 3
   },
   "file_extension": ".py",
   "mimetype": "text/x-python",
   "name": "python",
   "nbconvert_exporter": "python",
   "pygments_lexer": "ipython3",
   "version": "3.9.7"
  }
 },
 "nbformat": 4,
 "nbformat_minor": 5
}
